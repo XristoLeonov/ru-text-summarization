{
 "cells": [
  {
   "cell_type": "code",
   "execution_count": null,
   "id": "c00b0cff",
   "metadata": {},
   "outputs": [],
   "source": [
    "import json\n",
    "import os\n",
    "import pandas as pd\n",
    "import re\n",
    "from transformers import AutoTokenizer\n",
    "from sklearn.model_selection import train_test_split\n",
    "import matplotlib.pyplot as plt"
   ]
  },
  {
   "cell_type": "markdown",
   "id": "6040dbd1",
   "metadata": {},
   "source": [
    "# Описание набора данных"
   ]
  },
  {
   "cell_type": "markdown",
   "id": "4d11ef8c",
   "metadata": {},
   "source": [
    "## Для решения задачи автоматической генерации кратких содержаний (суммаризации) русскоязычных текстов были использованы два публично доступных набора данных: Gazeta и русскоязычная часть датасета XLSum. "
   ]
  },
  {
   "cell_type": "markdown",
   "id": "2841e5fd",
   "metadata": {},
   "source": [
    "## *1. Датасет Gazeta (≈75 тысяч новостей)*\n",
    "\n",
    "Источник: Датасет Gazeta представляет собой коллекцию статей, опубликованных на новостном портале Gazeta.ru. Он охватывает широкий спектр тем, включая политику, экономику, общество, культуру, спорт и происшествия.\n",
    "\n",
    "Структура: Каждая запись содержит URL-адрес (url), заголовок (title), полный текст статьи (text), резюме (summary), и дату публикации (date).\n",
    "\n",
    "\n",
    "https://github.com/IlyaGusev/gazeta\n",
    "\n",
    "## *2. Датасет XLSum  (≈77 тысяч новостей)*\n",
    "\n",
    "Источник: XLSum – это крупномасштабный многоязычный датасет для задачи суммаризации, содержащий более миллиона пар статья-резюме на различных языках. Статьи для XLSum были собраны из новостных публикаций BBC.\n",
    "\n",
    "Структура: Для данного проекта была использована русскоязычная часть XLSum. Каждая запись содержит идентификатор (id), URL-адрес (url), заголовок (title), полный текст статьи (text) и резюме (summary).\n",
    "\n",
    "https://huggingface.co/datasets/csebuetnlp/xlsum"
   ]
  },
  {
   "cell_type": "markdown",
   "id": "0d2fc0a3",
   "metadata": {},
   "source": [
    "# Загрузка датасета \"gazeta\" и первичный анализ "
   ]
  },
  {
   "cell_type": "code",
   "execution_count": null,
   "id": "1f7f1145",
   "metadata": {},
   "outputs": [],
   "source": [
    "data_articles_gazeta = []\n",
    "\n",
    "with open('original_data/gazeta_raw.txt', 'r', encoding='utf-8') as file:\n",
    "    for line in file:\n",
    "        line = line.strip()\n",
    "        record = json.loads(line)\n",
    "        data_articles_gazeta.append(record)"
   ]
  },
  {
   "cell_type": "code",
   "execution_count": 20,
   "id": "0e95883c",
   "metadata": {},
   "outputs": [
    {
     "data": {
      "text/html": [
       "<div>\n",
       "<style scoped>\n",
       "    .dataframe tbody tr th:only-of-type {\n",
       "        vertical-align: middle;\n",
       "    }\n",
       "\n",
       "    .dataframe tbody tr th {\n",
       "        vertical-align: top;\n",
       "    }\n",
       "\n",
       "    .dataframe thead th {\n",
       "        text-align: right;\n",
       "    }\n",
       "</style>\n",
       "<table border=\"1\" class=\"dataframe\">\n",
       "  <thead>\n",
       "    <tr style=\"text-align: right;\">\n",
       "      <th></th>\n",
       "      <th>url</th>\n",
       "      <th>text</th>\n",
       "      <th>title</th>\n",
       "      <th>summary</th>\n",
       "      <th>date</th>\n",
       "    </tr>\n",
       "  </thead>\n",
       "  <tbody>\n",
       "    <tr>\n",
       "      <th>0</th>\n",
       "      <td>https://www.gazeta.ru/auto/2005/06/09_a_298154...</td>\n",
       "      <td>Вот что я вам скажу о Мценске. На улице Машино...</td>\n",
       "      <td>Роман с жабой</td>\n",
       "      <td>Один уральский егерь с детской фамилией Мочкин...</td>\n",
       "      <td>2005-06-09 12:07:13</td>\n",
       "    </tr>\n",
       "    <tr>\n",
       "      <th>1</th>\n",
       "      <td>https://www.gazeta.ru/2003/02/27/ICQnakrylasj....</td>\n",
       "      <td>«У меня больше нет друзей», «Я хочу умереть», ...</td>\n",
       "      <td>«Аська» отняла друзей у каждого десятого</td>\n",
       "      <td>Популярный интернет-пейджер ICQ потерпел глоба...</td>\n",
       "      <td>2003-02-27 21:35:00</td>\n",
       "    </tr>\n",
       "    <tr>\n",
       "      <th>2</th>\n",
       "      <td>https://www.gazeta.ru/techzone/2003/11/11_e_66...</td>\n",
       "      <td>Мне самому 24 года, сам с 8 лет я общаюсь с ко...</td>\n",
       "      <td>Лечение компьютерной зависимости</td>\n",
       "      <td>Самое главное не паникуйте.</td>\n",
       "      <td>2003-11-12 15:37:34</td>\n",
       "    </tr>\n",
       "    <tr>\n",
       "      <th>3</th>\n",
       "      <td>https://www.gazeta.ru/2007/05/17/oa_239401.shtml</td>\n",
       "      <td>Украинские власти всерьез занялись идеей откуп...</td>\n",
       "      <td>Заплати и не служи</td>\n",
       "      <td>Украинское Минобороны воплощает в жизнь идею о...</td>\n",
       "      <td>2007-05-17 19:41:00</td>\n",
       "    </tr>\n",
       "    <tr>\n",
       "      <th>4</th>\n",
       "      <td>https://www.gazeta.ru/2003/04/02/pnevmoniavza....</td>\n",
       "      <td>Всемирная организация здравоохранения ( ВОЗ ) ...</td>\n",
       "      <td>Пневмония взялась за бизнес</td>\n",
       "      <td>ВОЗ призвала жителей Земли воздержаться от пое...</td>\n",
       "      <td>2003-04-02 15:06:00</td>\n",
       "    </tr>\n",
       "  </tbody>\n",
       "</table>\n",
       "</div>"
      ],
      "text/plain": [
       "                                                 url  \\\n",
       "0  https://www.gazeta.ru/auto/2005/06/09_a_298154...   \n",
       "1  https://www.gazeta.ru/2003/02/27/ICQnakrylasj....   \n",
       "2  https://www.gazeta.ru/techzone/2003/11/11_e_66...   \n",
       "3   https://www.gazeta.ru/2007/05/17/oa_239401.shtml   \n",
       "4  https://www.gazeta.ru/2003/04/02/pnevmoniavza....   \n",
       "\n",
       "                                                text  \\\n",
       "0  Вот что я вам скажу о Мценске. На улице Машино...   \n",
       "1  «У меня больше нет друзей», «Я хочу умереть», ...   \n",
       "2  Мне самому 24 года, сам с 8 лет я общаюсь с ко...   \n",
       "3  Украинские власти всерьез занялись идеей откуп...   \n",
       "4  Всемирная организация здравоохранения ( ВОЗ ) ...   \n",
       "\n",
       "                                      title  \\\n",
       "0                             Роман с жабой   \n",
       "1  «Аська» отняла друзей у каждого десятого   \n",
       "2          Лечение компьютерной зависимости   \n",
       "3                        Заплати и не служи   \n",
       "4               Пневмония взялась за бизнес   \n",
       "\n",
       "                                             summary                 date  \n",
       "0  Один уральский егерь с детской фамилией Мочкин...  2005-06-09 12:07:13  \n",
       "1  Популярный интернет-пейджер ICQ потерпел глоба...  2003-02-27 21:35:00  \n",
       "2                        Самое главное не паникуйте.  2003-11-12 15:37:34  \n",
       "3  Украинское Минобороны воплощает в жизнь идею о...  2007-05-17 19:41:00  \n",
       "4  ВОЗ призвала жителей Земли воздержаться от пое...  2003-04-02 15:06:00  "
      ]
     },
     "execution_count": 20,
     "metadata": {},
     "output_type": "execute_result"
    }
   ],
   "source": [
    "data_gazeta = pd.DataFrame(data_articles_gazeta)\n",
    "data_gazeta.head()"
   ]
  },
  {
   "cell_type": "code",
   "execution_count": 21,
   "id": "a9541d76",
   "metadata": {},
   "outputs": [
    {
     "name": "stdout",
     "output_type": "stream",
     "text": [
      "<class 'pandas.core.frame.DataFrame'>\n",
      "RangeIndex: 75198 entries, 0 to 75197\n",
      "Data columns (total 5 columns):\n",
      " #   Column   Non-Null Count  Dtype \n",
      "---  ------   --------------  ----- \n",
      " 0   url      75198 non-null  object\n",
      " 1   text     75198 non-null  object\n",
      " 2   title    75198 non-null  object\n",
      " 3   summary  75198 non-null  object\n",
      " 4   date     75198 non-null  object\n",
      "dtypes: object(5)\n",
      "memory usage: 2.9+ MB\n",
      "None\n",
      "url        False\n",
      "text       False\n",
      "title      False\n",
      "summary    False\n",
      "date       False\n",
      "dtype: bool\n"
     ]
    }
   ],
   "source": [
    "print(data_gazeta.info())\n",
    "print(data_gazeta.isna().any())"
   ]
  },
  {
   "cell_type": "markdown",
   "id": "6be44cf4",
   "metadata": {},
   "source": [
    "Пропусков не обнаружено"
   ]
  },
  {
   "cell_type": "markdown",
   "id": "cf34cb32",
   "metadata": {},
   "source": [
    "Переведем необходимые фичи в строки "
   ]
  },
  {
   "cell_type": "code",
   "execution_count": 22,
   "id": "3373f683",
   "metadata": {},
   "outputs": [],
   "source": [
    "data_gazeta['title'] = data_gazeta['title'].astype('string')\n",
    "data_gazeta['text'] = data_gazeta['text'].astype('string')\n",
    "data_gazeta['summary'] = data_gazeta['summary'].astype('string')"
   ]
  },
  {
   "cell_type": "markdown",
   "id": "8eaaf3e7",
   "metadata": {},
   "source": [
    "Объединение заголовков с текстом"
   ]
  },
  {
   "cell_type": "code",
   "execution_count": 23,
   "id": "24aa4c5e",
   "metadata": {},
   "outputs": [
    {
     "data": {
      "text/html": [
       "<div>\n",
       "<style scoped>\n",
       "    .dataframe tbody tr th:only-of-type {\n",
       "        vertical-align: middle;\n",
       "    }\n",
       "\n",
       "    .dataframe tbody tr th {\n",
       "        vertical-align: top;\n",
       "    }\n",
       "\n",
       "    .dataframe thead th {\n",
       "        text-align: right;\n",
       "    }\n",
       "</style>\n",
       "<table border=\"1\" class=\"dataframe\">\n",
       "  <thead>\n",
       "    <tr style=\"text-align: right;\">\n",
       "      <th></th>\n",
       "      <th>text</th>\n",
       "      <th>summary</th>\n",
       "    </tr>\n",
       "  </thead>\n",
       "  <tbody>\n",
       "    <tr>\n",
       "      <th>0</th>\n",
       "      <td>Роман с жабой. Вот что я вам скажу о Мценске. ...</td>\n",
       "      <td>Один уральский егерь с детской фамилией Мочкин...</td>\n",
       "    </tr>\n",
       "    <tr>\n",
       "      <th>1</th>\n",
       "      <td>«Аська» отняла друзей у каждого десятого. «У м...</td>\n",
       "      <td>Популярный интернет-пейджер ICQ потерпел глоба...</td>\n",
       "    </tr>\n",
       "    <tr>\n",
       "      <th>2</th>\n",
       "      <td>Лечение компьютерной зависимости. Мне самому 2...</td>\n",
       "      <td>Самое главное не паникуйте.</td>\n",
       "    </tr>\n",
       "    <tr>\n",
       "      <th>3</th>\n",
       "      <td>Заплати и не служи. Украинские власти всерьез ...</td>\n",
       "      <td>Украинское Минобороны воплощает в жизнь идею о...</td>\n",
       "    </tr>\n",
       "    <tr>\n",
       "      <th>4</th>\n",
       "      <td>Пневмония взялась за бизнес. Всемирная организ...</td>\n",
       "      <td>ВОЗ призвала жителей Земли воздержаться от пое...</td>\n",
       "    </tr>\n",
       "  </tbody>\n",
       "</table>\n",
       "</div>"
      ],
      "text/plain": [
       "                                                text  \\\n",
       "0  Роман с жабой. Вот что я вам скажу о Мценске. ...   \n",
       "1  «Аська» отняла друзей у каждого десятого. «У м...   \n",
       "2  Лечение компьютерной зависимости. Мне самому 2...   \n",
       "3  Заплати и не служи. Украинские власти всерьез ...   \n",
       "4  Пневмония взялась за бизнес. Всемирная организ...   \n",
       "\n",
       "                                             summary  \n",
       "0  Один уральский егерь с детской фамилией Мочкин...  \n",
       "1  Популярный интернет-пейджер ICQ потерпел глоба...  \n",
       "2                        Самое главное не паникуйте.  \n",
       "3  Украинское Минобороны воплощает в жизнь идею о...  \n",
       "4  ВОЗ призвала жителей Земли воздержаться от пое...  "
      ]
     },
     "execution_count": 23,
     "metadata": {},
     "output_type": "execute_result"
    }
   ],
   "source": [
    "data_gazeta['text'] = data_gazeta['title'] + '. ' + data_gazeta['text']\n",
    "data_gazeta = data_gazeta[['text', 'summary']]\n",
    "data_gazeta.head()"
   ]
  },
  {
   "cell_type": "markdown",
   "id": "d148dfea",
   "metadata": {},
   "source": [
    "Проверка на дубликаты"
   ]
  },
  {
   "cell_type": "code",
   "execution_count": 24,
   "id": "e0f6073d",
   "metadata": {},
   "outputs": [
    {
     "data": {
      "text/plain": [
       "False    75049\n",
       "True       149\n",
       "Name: count, dtype: int64"
      ]
     },
     "execution_count": 24,
     "metadata": {},
     "output_type": "execute_result"
    }
   ],
   "source": [
    "data_gazeta.duplicated().value_counts()"
   ]
  },
  {
   "cell_type": "markdown",
   "id": "ab287158",
   "metadata": {},
   "source": [
    "Обнаружено 149 дубликатов, удалим их"
   ]
  },
  {
   "cell_type": "code",
   "execution_count": 25,
   "id": "52d110cd",
   "metadata": {},
   "outputs": [
    {
     "data": {
      "text/html": [
       "<div>\n",
       "<style scoped>\n",
       "    .dataframe tbody tr th:only-of-type {\n",
       "        vertical-align: middle;\n",
       "    }\n",
       "\n",
       "    .dataframe tbody tr th {\n",
       "        vertical-align: top;\n",
       "    }\n",
       "\n",
       "    .dataframe thead th {\n",
       "        text-align: right;\n",
       "    }\n",
       "</style>\n",
       "<table border=\"1\" class=\"dataframe\">\n",
       "  <thead>\n",
       "    <tr style=\"text-align: right;\">\n",
       "      <th></th>\n",
       "      <th>text</th>\n",
       "      <th>summary</th>\n",
       "    </tr>\n",
       "  </thead>\n",
       "  <tbody>\n",
       "    <tr>\n",
       "      <th>75044</th>\n",
       "      <td>«Бесконечные санкции»: Госдеп потребовал от Ро...</td>\n",
       "      <td>США будут вводить санкции против России до тех...</td>\n",
       "    </tr>\n",
       "    <tr>\n",
       "      <th>75045</th>\n",
       "      <td>Ультиматум за язык: Москву призвали надавить н...</td>\n",
       "      <td>России стоит надавить на Украину и пригрозить ...</td>\n",
       "    </tr>\n",
       "    <tr>\n",
       "      <th>75046</th>\n",
       "      <td>Рождественские победы «Востока». Пражский «Лев...</td>\n",
       "      <td>«Ак Барс» и «Югра» добились выездных побед в П...</td>\n",
       "    </tr>\n",
       "    <tr>\n",
       "      <th>75047</th>\n",
       "      <td>Натхо предан Бердыеву. Будет ли продлен контра...</td>\n",
       "      <td>Бибрас Натхо может покинуть «Рубин», если с ка...</td>\n",
       "    </tr>\n",
       "    <tr>\n",
       "      <th>75048</th>\n",
       "      <td>«Для нас нет авторитетов». После победы в упор...</td>\n",
       "      <td>Защитник «Химок» Сергей Моня заявил, что перед...</td>\n",
       "    </tr>\n",
       "  </tbody>\n",
       "</table>\n",
       "</div>"
      ],
      "text/plain": [
       "                                                    text  \\\n",
       "75044  «Бесконечные санкции»: Госдеп потребовал от Ро...   \n",
       "75045  Ультиматум за язык: Москву призвали надавить н...   \n",
       "75046  Рождественские победы «Востока». Пражский «Лев...   \n",
       "75047  Натхо предан Бердыеву. Будет ли продлен контра...   \n",
       "75048  «Для нас нет авторитетов». После победы в упор...   \n",
       "\n",
       "                                                 summary  \n",
       "75044  США будут вводить санкции против России до тех...  \n",
       "75045  России стоит надавить на Украину и пригрозить ...  \n",
       "75046  «Ак Барс» и «Югра» добились выездных побед в П...  \n",
       "75047  Бибрас Натхо может покинуть «Рубин», если с ка...  \n",
       "75048  Защитник «Химок» Сергей Моня заявил, что перед...  "
      ]
     },
     "execution_count": 25,
     "metadata": {},
     "output_type": "execute_result"
    }
   ],
   "source": [
    "data_gazeta = data_gazeta.drop_duplicates()\n",
    "data_gazeta = data_gazeta.reset_index(drop=True)\n",
    "data_gazeta.shape\n",
    "data_gazeta.tail()"
   ]
  },
  {
   "cell_type": "markdown",
   "id": "440d6d78",
   "metadata": {},
   "source": [
    "# Загрузка датасета \"xlsum\" и первичный анализ "
   ]
  },
  {
   "cell_type": "code",
   "execution_count": null,
   "id": "7528151e",
   "metadata": {},
   "outputs": [],
   "source": [
    "data_articles_xlsum = []\n",
    "\n",
    "with open('original_data/xl_sum_ru.jsonl', 'r', encoding='utf-8') as file:\n",
    "    for line in file:\n",
    "        line = line.strip()\n",
    "        record = json.loads(line)\n",
    "        data_articles_xlsum.append(record)"
   ]
  },
  {
   "cell_type": "code",
   "execution_count": 27,
   "id": "66fb7704",
   "metadata": {},
   "outputs": [
    {
     "data": {
      "text/html": [
       "<div>\n",
       "<style scoped>\n",
       "    .dataframe tbody tr th:only-of-type {\n",
       "        vertical-align: middle;\n",
       "    }\n",
       "\n",
       "    .dataframe tbody tr th {\n",
       "        vertical-align: top;\n",
       "    }\n",
       "\n",
       "    .dataframe thead th {\n",
       "        text-align: right;\n",
       "    }\n",
       "</style>\n",
       "<table border=\"1\" class=\"dataframe\">\n",
       "  <thead>\n",
       "    <tr style=\"text-align: right;\">\n",
       "      <th></th>\n",
       "      <th>id</th>\n",
       "      <th>url</th>\n",
       "      <th>title</th>\n",
       "      <th>summary</th>\n",
       "      <th>text</th>\n",
       "    </tr>\n",
       "  </thead>\n",
       "  <tbody>\n",
       "    <tr>\n",
       "      <th>0</th>\n",
       "      <td>ukrainian.120514_ru_n_s_korea_burma</td>\n",
       "      <td>https://www.bbc.com/ukrainian/rolling_news_rus...</td>\n",
       "      <td>Президент Южной Кореи впервые за почти 30 лет ...</td>\n",
       "      <td>Президент Южной Кореи Ли Мун-бак прибыл в Бирм...</td>\n",
       "      <td>В прошлом году президент Чон Ду Хван едва избе...</td>\n",
       "    </tr>\n",
       "    <tr>\n",
       "      <th>1</th>\n",
       "      <td>ukrainian.141119_ru_n_peskov_nato</td>\n",
       "      <td>https://www.bbc.com/ukrainian/rolling_news_rus...</td>\n",
       "      <td>НАТО: слова Пескова об Украине \"оторваны от ре...</td>\n",
       "      <td>В руководстве НАТО удивлены тем, что Россия тр...</td>\n",
       "      <td>На брифинге в Брюсселе чиновник напомнила, что...</td>\n",
       "    </tr>\n",
       "    <tr>\n",
       "      <th>2</th>\n",
       "      <td>140624_rn_us_fbi_children_prostitution</td>\n",
       "      <td>https://www.bbc.com/russian/rolling_news/2014/...</td>\n",
       "      <td>В США прошла крупная операция против детской п...</td>\n",
       "      <td>Правоохранительные органы США провели масштабн...</td>\n",
       "      <td>В результате совместных действий ФБР и министе...</td>\n",
       "    </tr>\n",
       "    <tr>\n",
       "      <th>3</th>\n",
       "      <td>news-49459634</td>\n",
       "      <td>https://www.bbc.com/russian/news-49459634</td>\n",
       "      <td>Принц Эндрю заявил, что не подозревал о престу...</td>\n",
       "      <td>Средний сын британской королевы Елизаветы II г...</td>\n",
       "      <td>Принца Эндрю (слева) сфотографировали во время...</td>\n",
       "    </tr>\n",
       "    <tr>\n",
       "      <th>4</th>\n",
       "      <td>140522_blog_disability_glushenkov_education</td>\n",
       "      <td>https://www.bbc.com/russian/blogs/2014/05/1405...</td>\n",
       "      <td>Зачем нужно уметь считать в уме и знать, кем б...</td>\n",
       "      <td>Включил на днях радио и от неожиданности вздро...</td>\n",
       "      <td>Современные дети - на \"ты\" с компьютерами, но ...</td>\n",
       "    </tr>\n",
       "  </tbody>\n",
       "</table>\n",
       "</div>"
      ],
      "text/plain": [
       "                                            id  \\\n",
       "0          ukrainian.120514_ru_n_s_korea_burma   \n",
       "1            ukrainian.141119_ru_n_peskov_nato   \n",
       "2       140624_rn_us_fbi_children_prostitution   \n",
       "3                                news-49459634   \n",
       "4  140522_blog_disability_glushenkov_education   \n",
       "\n",
       "                                                 url  \\\n",
       "0  https://www.bbc.com/ukrainian/rolling_news_rus...   \n",
       "1  https://www.bbc.com/ukrainian/rolling_news_rus...   \n",
       "2  https://www.bbc.com/russian/rolling_news/2014/...   \n",
       "3          https://www.bbc.com/russian/news-49459634   \n",
       "4  https://www.bbc.com/russian/blogs/2014/05/1405...   \n",
       "\n",
       "                                               title  \\\n",
       "0  Президент Южной Кореи впервые за почти 30 лет ...   \n",
       "1  НАТО: слова Пескова об Украине \"оторваны от ре...   \n",
       "2  В США прошла крупная операция против детской п...   \n",
       "3  Принц Эндрю заявил, что не подозревал о престу...   \n",
       "4  Зачем нужно уметь считать в уме и знать, кем б...   \n",
       "\n",
       "                                             summary  \\\n",
       "0  Президент Южной Кореи Ли Мун-бак прибыл в Бирм...   \n",
       "1  В руководстве НАТО удивлены тем, что Россия тр...   \n",
       "2  Правоохранительные органы США провели масштабн...   \n",
       "3  Средний сын британской королевы Елизаветы II г...   \n",
       "4  Включил на днях радио и от неожиданности вздро...   \n",
       "\n",
       "                                                text  \n",
       "0  В прошлом году президент Чон Ду Хван едва избе...  \n",
       "1  На брифинге в Брюсселе чиновник напомнила, что...  \n",
       "2  В результате совместных действий ФБР и министе...  \n",
       "3  Принца Эндрю (слева) сфотографировали во время...  \n",
       "4  Современные дети - на \"ты\" с компьютерами, но ...  "
      ]
     },
     "execution_count": 27,
     "metadata": {},
     "output_type": "execute_result"
    }
   ],
   "source": [
    "data_xlsum = pd.DataFrame(data_articles_xlsum)\n",
    "data_xlsum.head()"
   ]
  },
  {
   "cell_type": "code",
   "execution_count": 28,
   "id": "bb23917c",
   "metadata": {},
   "outputs": [
    {
     "name": "stdout",
     "output_type": "stream",
     "text": [
      "<class 'pandas.core.frame.DataFrame'>\n",
      "RangeIndex: 77803 entries, 0 to 77802\n",
      "Data columns (total 5 columns):\n",
      " #   Column   Non-Null Count  Dtype \n",
      "---  ------   --------------  ----- \n",
      " 0   id       77803 non-null  object\n",
      " 1   url      77803 non-null  object\n",
      " 2   title    77803 non-null  object\n",
      " 3   summary  77803 non-null  object\n",
      " 4   text     77803 non-null  object\n",
      "dtypes: object(5)\n",
      "memory usage: 3.0+ MB\n",
      "None\n",
      "id         False\n",
      "url        False\n",
      "title      False\n",
      "summary    False\n",
      "text       False\n",
      "dtype: bool\n"
     ]
    }
   ],
   "source": [
    "print(data_xlsum.info())\n",
    "print(data_xlsum.isna().any())"
   ]
  },
  {
   "cell_type": "markdown",
   "id": "59480723",
   "metadata": {},
   "source": [
    "Пропусков не обнаружено"
   ]
  },
  {
   "cell_type": "markdown",
   "id": "b686fbf3",
   "metadata": {},
   "source": [
    "Переведем необходимые фичи в строки "
   ]
  },
  {
   "cell_type": "code",
   "execution_count": 29,
   "id": "a5f98960",
   "metadata": {},
   "outputs": [],
   "source": [
    "data_xlsum['title'] = data_xlsum['title'].astype('string')\n",
    "data_xlsum['text'] = data_xlsum['text'].astype('string')\n",
    "data_xlsum['summary'] = data_xlsum['summary'].astype('string')"
   ]
  },
  {
   "cell_type": "markdown",
   "id": "907c9fde",
   "metadata": {},
   "source": [
    "Объединение заголовков с текстом"
   ]
  },
  {
   "cell_type": "code",
   "execution_count": 30,
   "id": "cb4923e3",
   "metadata": {},
   "outputs": [
    {
     "data": {
      "text/html": [
       "<div>\n",
       "<style scoped>\n",
       "    .dataframe tbody tr th:only-of-type {\n",
       "        vertical-align: middle;\n",
       "    }\n",
       "\n",
       "    .dataframe tbody tr th {\n",
       "        vertical-align: top;\n",
       "    }\n",
       "\n",
       "    .dataframe thead th {\n",
       "        text-align: right;\n",
       "    }\n",
       "</style>\n",
       "<table border=\"1\" class=\"dataframe\">\n",
       "  <thead>\n",
       "    <tr style=\"text-align: right;\">\n",
       "      <th></th>\n",
       "      <th>text</th>\n",
       "      <th>summary</th>\n",
       "    </tr>\n",
       "  </thead>\n",
       "  <tbody>\n",
       "    <tr>\n",
       "      <th>0</th>\n",
       "      <td>Президент Южной Кореи впервые за почти 30 лет ...</td>\n",
       "      <td>Президент Южной Кореи Ли Мун-бак прибыл в Бирм...</td>\n",
       "    </tr>\n",
       "    <tr>\n",
       "      <th>1</th>\n",
       "      <td>НАТО: слова Пескова об Украине \"оторваны от ре...</td>\n",
       "      <td>В руководстве НАТО удивлены тем, что Россия тр...</td>\n",
       "    </tr>\n",
       "    <tr>\n",
       "      <th>2</th>\n",
       "      <td>В США прошла крупная операция против детской п...</td>\n",
       "      <td>Правоохранительные органы США провели масштабн...</td>\n",
       "    </tr>\n",
       "    <tr>\n",
       "      <th>3</th>\n",
       "      <td>Принц Эндрю заявил, что не подозревал о престу...</td>\n",
       "      <td>Средний сын британской королевы Елизаветы II г...</td>\n",
       "    </tr>\n",
       "    <tr>\n",
       "      <th>4</th>\n",
       "      <td>Зачем нужно уметь считать в уме и знать, кем б...</td>\n",
       "      <td>Включил на днях радио и от неожиданности вздро...</td>\n",
       "    </tr>\n",
       "  </tbody>\n",
       "</table>\n",
       "</div>"
      ],
      "text/plain": [
       "                                                text  \\\n",
       "0  Президент Южной Кореи впервые за почти 30 лет ...   \n",
       "1  НАТО: слова Пескова об Украине \"оторваны от ре...   \n",
       "2  В США прошла крупная операция против детской п...   \n",
       "3  Принц Эндрю заявил, что не подозревал о престу...   \n",
       "4  Зачем нужно уметь считать в уме и знать, кем б...   \n",
       "\n",
       "                                             summary  \n",
       "0  Президент Южной Кореи Ли Мун-бак прибыл в Бирм...  \n",
       "1  В руководстве НАТО удивлены тем, что Россия тр...  \n",
       "2  Правоохранительные органы США провели масштабн...  \n",
       "3  Средний сын британской королевы Елизаветы II г...  \n",
       "4  Включил на днях радио и от неожиданности вздро...  "
      ]
     },
     "execution_count": 30,
     "metadata": {},
     "output_type": "execute_result"
    }
   ],
   "source": [
    "data_xlsum['text'] = data_xlsum['title'] + '. ' + data_xlsum['text']\n",
    "data_xlsum = data_xlsum[['text', 'summary']]\n",
    "data_xlsum.head()"
   ]
  },
  {
   "cell_type": "markdown",
   "id": "72c508fc",
   "metadata": {},
   "source": [
    "Проверка на дубликаты"
   ]
  },
  {
   "cell_type": "code",
   "execution_count": 31,
   "id": "d741f538",
   "metadata": {},
   "outputs": [
    {
     "data": {
      "text/plain": [
       "False    77803\n",
       "Name: count, dtype: int64"
      ]
     },
     "execution_count": 31,
     "metadata": {},
     "output_type": "execute_result"
    }
   ],
   "source": [
    "data_xlsum.duplicated().value_counts()"
   ]
  },
  {
   "cell_type": "markdown",
   "id": "63d8a6ef",
   "metadata": {},
   "source": [
    "Дубликатов не обнаружено"
   ]
  },
  {
   "cell_type": "markdown",
   "id": "c0b3a40b",
   "metadata": {},
   "source": [
    "# Очистка и объединение датасетов "
   ]
  },
  {
   "cell_type": "code",
   "execution_count": null,
   "id": "0a06227a",
   "metadata": {},
   "outputs": [],
   "source": [
    "def clean_text(text):\n",
    "    text = str(text)\n",
    "    text = re.sub(r'<.*?>', '', text)                                       # Удаляем html-теги\n",
    "    text = re.sub(r\"http\\S+|www\\S+|https\\S+\", '', text, flags=re.MULTILINE) # Удаляем url-адреса\n",
    "    text = re.sub(r'\\s+', ' ', text).strip()                                # Удаляем лишние пробелы \n",
    "\n",
    "    return text"
   ]
  },
  {
   "cell_type": "markdown",
   "id": "6395211d",
   "metadata": {},
   "source": [
    "Проводим очистку"
   ]
  },
  {
   "cell_type": "code",
   "execution_count": 33,
   "id": "163dc6a2",
   "metadata": {},
   "outputs": [],
   "source": [
    "data_gazeta['summary'] = data_gazeta['summary'].apply(clean_text) \n",
    "data_gazeta['text'] = data_gazeta['text'].apply(clean_text) \n",
    "\n",
    "data_xlsum['summary'] = data_xlsum['summary'].apply(clean_text) \n",
    "data_xlsum['text'] = data_xlsum['text'].apply(clean_text) "
   ]
  },
  {
   "cell_type": "markdown",
   "id": "bec28138",
   "metadata": {},
   "source": [
    "Подсчет длин в токенах T5"
   ]
  },
  {
   "cell_type": "code",
   "execution_count": null,
   "id": "54a76a45",
   "metadata": {},
   "outputs": [],
   "source": [
    "MODEL_NAME = \"ai-forever/ruT5-base\" \n",
    "tokenizer_t5 = AutoTokenizer.from_pretrained(MODEL_NAME)\n",
    "\n",
    "data_gazeta['text_len_t5_tokens'] = data_gazeta['text'].apply(lambda x: len(tokenizer_t5.encode(str(x))))\n",
    "data_gazeta['summary_len_t5_tokens'] = data_gazeta['summary'].apply(lambda x: len(tokenizer_t5.encode(str(x))))\n",
    "\n",
    "data_xlsum['text_len_t5_tokens'] = data_xlsum['text'].apply(lambda x: len(tokenizer_t5.encode(str(x))))\n",
    "data_xlsum['summary_len_t5_tokens'] = data_xlsum['summary'].apply(lambda x: len(tokenizer_t5.encode(str(x))))"
   ]
  },
  {
   "cell_type": "code",
   "execution_count": 35,
   "id": "2381801a",
   "metadata": {},
   "outputs": [
    {
     "name": "stdout",
     "output_type": "stream",
     "text": [
      "Длина текста (токены T5):\n",
      "count    75049.000000\n",
      "mean      1077.070114\n",
      "std        474.690453\n",
      "min         10.000000\n",
      "1%         440.000000\n",
      "5%         619.000000\n",
      "50%        971.000000\n",
      "75%       1190.000000\n",
      "95%       1822.000000\n",
      "99%       2692.560000\n",
      "max      23510.000000\n",
      "Name: text_len_t5_tokens, dtype: float64\n",
      "\n",
      "Длина саммари (токены T5):\n",
      "count    75049.000000\n",
      "mean        68.962278\n",
      "std         20.012755\n",
      "min          2.000000\n",
      "1%          27.000000\n",
      "5%          38.000000\n",
      "50%         68.000000\n",
      "75%         82.000000\n",
      "95%        102.000000\n",
      "99%        117.000000\n",
      "max        900.000000\n",
      "Name: summary_len_t5_tokens, dtype: float64\n"
     ]
    }
   ],
   "source": [
    "print(\"Длина текста (токены T5):\")\n",
    "print(data_gazeta['text_len_t5_tokens'].describe(percentiles=[0.01, 0.05, 0.75, 0.95, 0.99]))\n",
    "print(\"\\nДлина саммари (токены T5):\")\n",
    "print(data_gazeta['summary_len_t5_tokens'].describe(percentiles=[0.01, 0.05, 0.75, 0.95, 0.99]))\n"
   ]
  },
  {
   "cell_type": "code",
   "execution_count": 36,
   "id": "0c39526f",
   "metadata": {},
   "outputs": [
    {
     "name": "stdout",
     "output_type": "stream",
     "text": [
      "Длина текста (токены T5):\n",
      "count    77803.000000\n",
      "mean       871.737709\n",
      "std        833.833397\n",
      "min         34.000000\n",
      "1%          78.000000\n",
      "5%         119.000000\n",
      "50%        637.000000\n",
      "75%       1168.000000\n",
      "95%       2314.000000\n",
      "99%       3907.960000\n",
      "max      27892.000000\n",
      "Name: text_len_t5_tokens, dtype: float64\n",
      "\n",
      "Длина саммари (токены T5):\n",
      "count    77803.000000\n",
      "mean        41.021015\n",
      "std         15.737479\n",
      "min          1.000000\n",
      "1%          10.000000\n",
      "5%          20.000000\n",
      "50%         39.000000\n",
      "75%         50.000000\n",
      "95%         69.000000\n",
      "99%         89.000000\n",
      "max        356.000000\n",
      "Name: summary_len_t5_tokens, dtype: float64\n"
     ]
    }
   ],
   "source": [
    "print(\"Длина текста (токены T5):\")\n",
    "print(data_xlsum['text_len_t5_tokens'].describe(percentiles=[0.01, 0.05, 0.75, 0.95, 0.99]))\n",
    "print(\"\\nДлина саммари (токены T5):\")\n",
    "print(data_xlsum['summary_len_t5_tokens'].describe(percentiles=[0.01, 0.05, 0.75, 0.95, 0.99]))"
   ]
  },
  {
   "cell_type": "code",
   "execution_count": 37,
   "id": "f8535f80",
   "metadata": {},
   "outputs": [
    {
     "data": {
      "text/plain": [
       "((75049, 4), (77803, 4))"
      ]
     },
     "execution_count": 37,
     "metadata": {},
     "output_type": "execute_result"
    }
   ],
   "source": [
    "data_gazeta.shape, data_xlsum.shape"
   ]
  },
  {
   "cell_type": "markdown",
   "id": "c1451266",
   "metadata": {},
   "source": [
    "Объединяем датасеты в один"
   ]
  },
  {
   "cell_type": "code",
   "execution_count": 38,
   "id": "67ff081a",
   "metadata": {},
   "outputs": [
    {
     "data": {
      "text/plain": [
       "(152852, 4)"
      ]
     },
     "execution_count": 38,
     "metadata": {},
     "output_type": "execute_result"
    }
   ],
   "source": [
    "data_combined = pd.concat([data_gazeta, data_xlsum], ignore_index=True)\n",
    "data_combined.shape"
   ]
  },
  {
   "cell_type": "code",
   "execution_count": 39,
   "id": "90b2a4b3",
   "metadata": {},
   "outputs": [
    {
     "data": {
      "text/html": [
       "<div>\n",
       "<style scoped>\n",
       "    .dataframe tbody tr th:only-of-type {\n",
       "        vertical-align: middle;\n",
       "    }\n",
       "\n",
       "    .dataframe tbody tr th {\n",
       "        vertical-align: top;\n",
       "    }\n",
       "\n",
       "    .dataframe thead th {\n",
       "        text-align: right;\n",
       "    }\n",
       "</style>\n",
       "<table border=\"1\" class=\"dataframe\">\n",
       "  <thead>\n",
       "    <tr style=\"text-align: right;\">\n",
       "      <th></th>\n",
       "      <th>text</th>\n",
       "      <th>summary</th>\n",
       "      <th>text_len_t5_tokens</th>\n",
       "      <th>summary_len_t5_tokens</th>\n",
       "    </tr>\n",
       "  </thead>\n",
       "  <tbody>\n",
       "    <tr>\n",
       "      <th>0</th>\n",
       "      <td>Роман с жабой. Вот что я вам скажу о Мценске. ...</td>\n",
       "      <td>Один уральский егерь с детской фамилией Мочкин...</td>\n",
       "      <td>2442</td>\n",
       "      <td>113</td>\n",
       "    </tr>\n",
       "    <tr>\n",
       "      <th>1</th>\n",
       "      <td>«Аська» отняла друзей у каждого десятого. «У м...</td>\n",
       "      <td>Популярный интернет-пейджер ICQ потерпел глоба...</td>\n",
       "      <td>694</td>\n",
       "      <td>58</td>\n",
       "    </tr>\n",
       "    <tr>\n",
       "      <th>2</th>\n",
       "      <td>Лечение компьютерной зависимости. Мне самому 2...</td>\n",
       "      <td>Самое главное не паникуйте.</td>\n",
       "      <td>800</td>\n",
       "      <td>7</td>\n",
       "    </tr>\n",
       "    <tr>\n",
       "      <th>3</th>\n",
       "      <td>Заплати и не служи. Украинские власти всерьез ...</td>\n",
       "      <td>Украинское Минобороны воплощает в жизнь идею о...</td>\n",
       "      <td>738</td>\n",
       "      <td>63</td>\n",
       "    </tr>\n",
       "    <tr>\n",
       "      <th>4</th>\n",
       "      <td>Пневмония взялась за бизнес. Всемирная организ...</td>\n",
       "      <td>ВОЗ призвала жителей Земли воздержаться от пое...</td>\n",
       "      <td>1246</td>\n",
       "      <td>65</td>\n",
       "    </tr>\n",
       "    <tr>\n",
       "      <th>...</th>\n",
       "      <td>...</td>\n",
       "      <td>...</td>\n",
       "      <td>...</td>\n",
       "      <td>...</td>\n",
       "    </tr>\n",
       "    <tr>\n",
       "      <th>152847</th>\n",
       "      <td>20 лет \"дружбы\" Украины и России - в 20 фотогр...</td>\n",
       "      <td>1 апреля прекращает действие Договор о дружбе,...</td>\n",
       "      <td>1055</td>\n",
       "      <td>38</td>\n",
       "    </tr>\n",
       "    <tr>\n",
       "      <th>152848</th>\n",
       "      <td>Уильям и Кейт в Париже: \"гламурное оружие\" Бри...</td>\n",
       "      <td>Принц Уильям с супругой герцогиней Кембриджско...</td>\n",
       "      <td>635</td>\n",
       "      <td>61</td>\n",
       "    </tr>\n",
       "    <tr>\n",
       "      <th>152849</th>\n",
       "      <td>Слепнущий фигурант Болотной не отпущен из-под ...</td>\n",
       "      <td>Следственный комитет России (СКР) сообщил, что...</td>\n",
       "      <td>587</td>\n",
       "      <td>54</td>\n",
       "    </tr>\n",
       "    <tr>\n",
       "      <th>152850</th>\n",
       "      <td>Яндекс раскритиковал закон о \"праве на забвени...</td>\n",
       "      <td>Крупнейший российский поисковик Яндекс раскрит...</td>\n",
       "      <td>275</td>\n",
       "      <td>47</td>\n",
       "    </tr>\n",
       "    <tr>\n",
       "      <th>152851</th>\n",
       "      <td>В Крыму по подозрению в шпионаже задержали рос...</td>\n",
       "      <td>В Симферополе сотрудники ФСБ задержали двух гр...</td>\n",
       "      <td>1535</td>\n",
       "      <td>42</td>\n",
       "    </tr>\n",
       "  </tbody>\n",
       "</table>\n",
       "<p>152852 rows × 4 columns</p>\n",
       "</div>"
      ],
      "text/plain": [
       "                                                     text  \\\n",
       "0       Роман с жабой. Вот что я вам скажу о Мценске. ...   \n",
       "1       «Аська» отняла друзей у каждого десятого. «У м...   \n",
       "2       Лечение компьютерной зависимости. Мне самому 2...   \n",
       "3       Заплати и не служи. Украинские власти всерьез ...   \n",
       "4       Пневмония взялась за бизнес. Всемирная организ...   \n",
       "...                                                   ...   \n",
       "152847  20 лет \"дружбы\" Украины и России - в 20 фотогр...   \n",
       "152848  Уильям и Кейт в Париже: \"гламурное оружие\" Бри...   \n",
       "152849  Слепнущий фигурант Болотной не отпущен из-под ...   \n",
       "152850  Яндекс раскритиковал закон о \"праве на забвени...   \n",
       "152851  В Крыму по подозрению в шпионаже задержали рос...   \n",
       "\n",
       "                                                  summary  text_len_t5_tokens  \\\n",
       "0       Один уральский егерь с детской фамилией Мочкин...                2442   \n",
       "1       Популярный интернет-пейджер ICQ потерпел глоба...                 694   \n",
       "2                             Самое главное не паникуйте.                 800   \n",
       "3       Украинское Минобороны воплощает в жизнь идею о...                 738   \n",
       "4       ВОЗ призвала жителей Земли воздержаться от пое...                1246   \n",
       "...                                                   ...                 ...   \n",
       "152847  1 апреля прекращает действие Договор о дружбе,...                1055   \n",
       "152848  Принц Уильям с супругой герцогиней Кембриджско...                 635   \n",
       "152849  Следственный комитет России (СКР) сообщил, что...                 587   \n",
       "152850  Крупнейший российский поисковик Яндекс раскрит...                 275   \n",
       "152851  В Симферополе сотрудники ФСБ задержали двух гр...                1535   \n",
       "\n",
       "        summary_len_t5_tokens  \n",
       "0                         113  \n",
       "1                          58  \n",
       "2                           7  \n",
       "3                          63  \n",
       "4                          65  \n",
       "...                       ...  \n",
       "152847                     38  \n",
       "152848                     61  \n",
       "152849                     54  \n",
       "152850                     47  \n",
       "152851                     42  \n",
       "\n",
       "[152852 rows x 4 columns]"
      ]
     },
     "execution_count": 39,
     "metadata": {},
     "output_type": "execute_result"
    }
   ],
   "source": [
    "data_combined"
   ]
  },
  {
   "cell_type": "markdown",
   "id": "67286f34",
   "metadata": {},
   "source": [
    "# Финальная обработка датасета и раздление набора данных на обучающую, тестовую и валидационную выборки. "
   ]
  },
  {
   "cell_type": "markdown",
   "id": "4b000df3",
   "metadata": {},
   "source": [
    "Оставим только те, в которых длина новости <512 и >30, и длина саммари <64 и >5.\n",
    "\n",
    "Это необходимо для ускорения обучения, так как модели для задачи суммаризации требуют больших вычислительных затрат, но это также может повлиять на метрики. "
   ]
  },
  {
   "cell_type": "code",
   "execution_count": 40,
   "id": "76428449",
   "metadata": {},
   "outputs": [
    {
     "data": {
      "text/plain": [
       "(32274, 4)"
      ]
     },
     "execution_count": 40,
     "metadata": {},
     "output_type": "execute_result"
    }
   ],
   "source": [
    "MAX_SOURCE_LENGTH = 512 \n",
    "MAX_TARGET_LENGTH = 64\n",
    "MIN_SOURCE_LENGTH = 30    \n",
    "MIN_TARGET_LENGTH = 5    \n",
    "\n",
    "\n",
    "data_filtered = data_combined[\n",
    "    (data_combined['text_len_t5_tokens'] <= MAX_SOURCE_LENGTH) & (data_combined['text_len_t5_tokens'] >= MIN_SOURCE_LENGTH) &\n",
    "    (data_combined['summary_len_t5_tokens'] <= MAX_TARGET_LENGTH) & (data_combined['summary_len_t5_tokens'] >= MIN_TARGET_LENGTH)].copy()\n",
    "data_filtered.shape"
   ]
  },
  {
   "cell_type": "code",
   "execution_count": 41,
   "id": "a9deacd8",
   "metadata": {},
   "outputs": [
    {
     "data": {
      "image/png": "[encoded data removed]",
      "text/plain": [
       "<Figure size 1000x500 with 1 Axes>"
      ]
     },
     "metadata": {},
     "output_type": "display_data"
    },
    {
     "data": {
      "image/png": "[encoded data removed]",
      "text/plain": [
       "<Figure size 1000x500 with 1 Axes>"
      ]
     },
     "metadata": {},
     "output_type": "display_data"
    }
   ],
   "source": [
    "plt.figure(figsize=(10, 5)) \n",
    "plt.hist(data_filtered['text_len_t5_tokens'], bins=30, color='orange', alpha=0.7)\n",
    "plt.title('Распределение длин текстов (в токенах T5)')\n",
    "plt.xlabel('Количество токенов в тексте')\n",
    "plt.ylabel('Частота')\n",
    "plt.grid(True, linestyle='--', alpha=0.7) \n",
    "plt.show()\n",
    "\n",
    "\n",
    "plt.figure(figsize=(10, 5)) \n",
    "plt.hist(data_filtered['summary_len_t5_tokens'], bins=30, color='green', alpha=0.7)\n",
    "plt.title('Распределение длин саммари (в токенах T5)')\n",
    "plt.xlabel('Количество токенов в саммари')\n",
    "plt.ylabel('Частота')\n",
    "plt.grid(True, linestyle='--', alpha=0.7)\n",
    "plt.show()"
   ]
  },
  {
   "cell_type": "markdown",
   "id": "23318fa9",
   "metadata": {},
   "source": [
    "Разделение на обучающую, тестовую и валидационную выборки"
   ]
  },
  {
   "cell_type": "code",
   "execution_count": 42,
   "id": "c8c86c55",
   "metadata": {},
   "outputs": [
    {
     "name": "stdout",
     "output_type": "stream",
     "text": [
      "Размер обучающей выборки (train_df): 25819\n",
      "Размер валидационной выборки (val_df): 3227\n",
      "Размер тестовой выборки (test_df): 3228\n"
     ]
    }
   ],
   "source": [
    "train_data, temp_data = train_test_split(\n",
    "    data_filtered[['text', 'summary']],\n",
    "    test_size=0.2,     \n",
    "    random_state=42,   \n",
    "    shuffle=True       \n",
    ")\n",
    "\n",
    "val_data, test_data = train_test_split(\n",
    "    temp_data,\n",
    "    test_size=0.5,      \n",
    "    random_state=42,    \n",
    "    shuffle=True\n",
    ")\n",
    "\n",
    "print(f\"Размер обучающей выборки (train_df): {train_data.shape[0]}\")\n",
    "print(f\"Размер валидационной выборки (val_df): {val_data.shape[0]}\")\n",
    "print(f\"Размер тестовой выборки (test_df): {test_data.shape[0]}\")\n"
   ]
  },
  {
   "cell_type": "markdown",
   "id": "c8b64ba4",
   "metadata": {},
   "source": [
    "В результате был сформирован итоговый набор данных, содержащий 32 274 уникальных пар \"текст-резюме\". \n",
    "\n",
    "Данные были разделены на обучающую (80%), валидационную (10%) и тестовую (10%) выборки.\n"
   ]
  },
  {
   "cell_type": "code",
   "execution_count": 43,
   "id": "88324b5b",
   "metadata": {},
   "outputs": [],
   "source": [
    "output_dir = \"final_data\"\n",
    "os.makedirs(output_dir, exist_ok=True) \n",
    "\n",
    "train_data[['text', 'summary']].to_csv(os.path.join(output_dir, 'train.csv'), index=False)\n",
    "val_data[['text', 'summary']].to_csv(os.path.join(output_dir, 'validation.csv'), index=False)\n",
    "test_data[['text', 'summary']].to_csv(os.path.join(output_dir, 'test.csv'), index=False)"
   ]
  }
 ],
 "metadata": {
  "kernelspec": {
   "display_name": "Python 3",
   "language": "python",
   "name": "python3"
  },
  "language_info": {
   "codemirror_mode": {
    "name": "ipython",
    "version": 3
   },
   "file_extension": ".py",
   "mimetype": "text/x-python",
   "name": "python",
   "nbconvert_exporter": "python",
   "pygments_lexer": "ipython3",
   "version": "3.12.4"
  }
 },
 "nbformat": 4,
 "nbformat_minor": 5
}
