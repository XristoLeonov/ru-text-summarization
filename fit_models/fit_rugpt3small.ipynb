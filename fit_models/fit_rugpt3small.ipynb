{
 "cells": [
  {
   "cell_type": "code",
   "execution_count": null,
   "id": "8733e6f6",
   "metadata": {},
   "outputs": [
    {
     "name": "stderr",
     "output_type": "stream",
     "text": [
      "c:\\Users\\Gapba\\anaconda3\\envs\\tf_new_env\\Lib\\site-packages\\tqdm\\auto.py:21: TqdmWarning: IProgress not found. Please update jupyter and ipywidgets. See https://ipywidgets.readthedocs.io/en/stable/user_install.html\n",
      "  from .autonotebook import tqdm as notebook_tqdm\n"
     ]
    },
    {
     "name": "stdout",
     "output_type": "stream",
     "text": [
      "WARNING:tensorflow:From C:\\Users\\Gapba\\AppData\\Roaming\\Python\\Python311\\site-packages\\tf_keras\\src\\losses.py:2976: The name tf.losses.sparse_softmax_cross_entropy is deprecated. Please use tf.compat.v1.losses.sparse_softmax_cross_entropy instead.\n",
      "\n"
     ]
    },
    {
     "data": {
      "text/plain": [
       "True"
      ]
     },
     "execution_count": 1,
     "metadata": {},
     "output_type": "execute_result"
    }
   ],
   "source": [
    "import os\n",
    "import torch\n",
    "import nltk\n",
    "from datasets import load_dataset\n",
    "from transformers import AutoTokenizer, AutoModelForCausalLM, Trainer, TrainingArguments, DataCollatorForSeq2Seq\n",
    "import matplotlib.pyplot as plt\n",
    "\n",
    "nltk.download('punkt_tab', quiet=True)\n",
    "nltk.download('punkt', quiet=True)"
   ]
  },
  {
   "cell_type": "markdown",
   "id": "963fa2af",
   "metadata": {},
   "source": [
    "# Загрузка и подготовка датасета"
   ]
  },
  {
   "cell_type": "code",
   "execution_count": null,
   "id": "103d8afe",
   "metadata": {},
   "outputs": [],
   "source": [
    "TRAIN_FILE = 'final_data/train.csv'\n",
    "VALID_FILE = 'final_data/validation.csv'\n",
    "\n",
    "MODEL_NAME = \"ai-forever/rugpt3small_based_on_gpt2\" \n",
    "OUTPUT_DIR = \"./results_rugpt3_sum\"\n",
    "\n",
    "MAX_SOURCE_LENGTH = 512\n",
    "MAX_TARGET_LENGTH = 64 \n",
    "MAX_CONTEXT_LENGTH = 512\n",
    "\n",
    "BATCH_SIZE_PER_DEVICE = 2\n",
    "GRADIENT_ACCUMULATION_STEPS = 8\n",
    "LEARNING_RATE = 0.00001\n",
    "NUM_TRAIN_EPOCHS = 40\n",
    "WEIGHT_DECAY = 0.01"
   ]
  },
  {
   "cell_type": "code",
   "execution_count": 9,
   "id": "ca2054cd",
   "metadata": {},
   "outputs": [
    {
     "name": "stdout",
     "output_type": "stream",
     "text": [
      "Пример данных из train\n",
      "Новость: В Китае от птичьего гриппа умерли по меньшей мере 26 человек. Несмотря на то, что большинство из 127 случаев заболевания были зарегистрированы в восточных провинциях, последний погибший родом из центральной части страны. 1 мая Всемирная организация здравоохранения предупредила, что вирус H7N9 в Китае представляет серьезную опасность для здоровья людей. До сих пор нет доказательств того, что вирус может передаваться от человека к человеку, однако ученые выразили обеспокоенность темпом распространения и серьезностью заболевания.\n",
      "Суммари: Государственные СМИ Китая сообщают, что по меньшей мере 26 человек уже погибли от нового штамма вируса птичьего гриппа.\n"
     ]
    }
   ],
   "source": [
    "data_files = {}\n",
    "data_files[\"train\"] = TRAIN_FILE\n",
    "data_files[\"validation\"] = VALID_FILE\n",
    "raw_datasets = load_dataset(\"csv\", data_files=data_files)\n",
    "\n",
    "print(\"Пример данных из train\")\n",
    "print(f'Новость: {raw_datasets[\"train\"][0][\"text\"]}')\n",
    "print(f'Суммари: {raw_datasets[\"train\"][0][\"summary\"]}')"
   ]
  },
  {
   "cell_type": "code",
   "execution_count": null,
   "id": "b72359ab",
   "metadata": {},
   "outputs": [
    {
     "name": "stderr",
     "output_type": "stream",
     "text": [
      "Map: 100%|██████████| 25819/25819 [00:49<00:00, 519.14 examples/s]\n",
      "Map: 100%|██████████| 3227/3227 [00:06<00:00, 516.75 examples/s]\n"
     ]
    }
   ],
   "source": [
    "tokenizer = AutoTokenizer.from_pretrained(MODEL_NAME)\n",
    "tokenizer.pad_token = tokenizer.eos_token\n",
    "\n",
    "def preprocess(examples):\n",
    "    input_ids_list = []\n",
    "    labels_list = []\n",
    "    for text, summary in zip(examples[\"text\"], examples[\"summary\"]):\n",
    "        prompt = \"Текст: \" + text.strip() + \" Краткое содержание:\"\n",
    "        tok_p = tokenizer(prompt, truncation=True, max_length=MAX_SOURCE_LENGTH, add_special_tokens=False)\n",
    "        tok_s = tokenizer(summary.strip(), truncation=True, max_length=MAX_TARGET_LENGTH, add_special_tokens=False)\n",
    "\n",
    "        input_ids = tok_p[\"input_ids\"] + tok_s[\"input_ids\"] + [tokenizer.eos_token_id]\n",
    "        labels = [-100] * len(tok_p[\"input_ids\"]) + tok_s[\"input_ids\"] + [tokenizer.eos_token_id]\n",
    "\n",
    "        input_ids_list.append(input_ids)\n",
    "        labels_list.append(labels)\n",
    "\n",
    "    return {\"input_ids\": input_ids_list, \"labels\": labels_list}\n",
    "\n",
    "tokenized_train = raw_datasets[\"train\"].map(preprocess, batched=True, remove_columns=raw_datasets[\"train\"].column_names)\n",
    "tokenized_val = raw_datasets[\"validation\"].map(preprocess, batched=True, remove_columns=raw_datasets[\"validation\"].column_names)"
   ]
  },
  {
   "cell_type": "markdown",
   "id": "2c9c3c70",
   "metadata": {},
   "source": [
    "# Настройка коллатора, модели и аргументов для обучения "
   ]
  },
  {
   "cell_type": "code",
   "execution_count": null,
   "id": "54b82b10",
   "metadata": {},
   "outputs": [],
   "source": [
    "model = AutoModelForCausalLM.from_pretrained(MODEL_NAME)\n",
    "\n",
    "data_collator = DataCollatorForSeq2Seq(\n",
    "    tokenizer=tokenizer,\n",
    "    model=model,\n",
    "    pad_to_multiple_of=8,\n",
    "    label_pad_token_id=-100\n",
    ")\n",
    "\n",
    "device = torch.device(\"cuda\" if torch.cuda.is_available() else \"cpu\")\n",
    "model = model.to(device)"
   ]
  },
  {
   "cell_type": "code",
   "execution_count": null,
   "id": "e555c214",
   "metadata": {},
   "outputs": [
    {
     "name": "stderr",
     "output_type": "stream",
     "text": [
      "C:\\Users\\Gapba\\AppData\\Local\\Temp\\ipykernel_13784\\3191735650.py:21: FutureWarning: `tokenizer` is deprecated and will be removed in version 5.0.0 for `Seq2SeqTrainer.__init__`. Use `processing_class` instead.\n",
      "  trainer = Seq2SeqTrainer(\n"
     ]
    }
   ],
   "source": [
    "training_args = TrainingArguments(\n",
    "    output_dir=OUTPUT_DIR,\n",
    "    eval_strategy=\"epoch\",\n",
    "    per_device_train_batch_size=BATCH_SIZE_PER_DEVICE,\n",
    "    per_device_eval_batch_size=BATCH_SIZE_PER_DEVICE,\n",
    "    gradient_accumulation_steps=GRADIENT_ACCUMULATION_STEPS,\n",
    "    learning_rate=LEARNING_RATE,\n",
    "    weight_decay=WEIGHT_DECAY,\n",
    "    num_train_epochs=NUM_TRAIN_EPOCHS,\n",
    "    fp16=torch.cuda.is_available(),\n",
    "    logging_steps=100,\n",
    "    save_strategy=\"epoch\",\n",
    "    report_to=\"none\",\n",
    ")\n",
    "\n",
    "trainer = Trainer( \n",
    "    model=model,\n",
    "    args=training_args,\n",
    "    train_dataset=tokenized_train,\n",
    "    eval_dataset=tokenized_val,\n",
    "    tokenizer=tokenizer,\n",
    "    data_collator=data_collator\n",
    ")\n"
   ]
  },
  {
   "cell_type": "markdown",
   "id": "40aeba98",
   "metadata": {},
   "source": [
    "# Дообучение модели"
   ]
  },
  {
   "cell_type": "code",
   "execution_count": 11,
   "id": "f59ef840",
   "metadata": {},
   "outputs": [
    {
     "data": {
      "text/html": [
       "\n",
       "    <div>\n",
       "      \n",
       "      <progress value='64520' max='64520' style='width:300px; height:20px; vertical-align: middle;'></progress>\n",
       "      [64520/64520 6:51:03, Epoch 39/40]\n",
       "    </div>\n",
       "    <table border=\"1\" class=\"dataframe\">\n",
       "  <thead>\n",
       " <tr style=\"text-align: left;\">\n",
       "      <th>Epoch</th>\n",
       "      <th>Training Loss</th>\n",
       "      <th>Validation Loss</th>\n",
       "    </tr>\n",
       "  </thead>\n",
       "  <tbody>\n",
       "    <tr>\n",
       "      <td>0</td>\n",
       "      <td>2.770000</td>\n",
       "      <td>2.652903</td>\n",
       "    </tr>\n",
       "    <tr>\n",
       "      <td>1</td>\n",
       "      <td>2.696200</td>\n",
       "      <td>2.624443</td>\n",
       "    </tr>\n",
       "    <tr>\n",
       "      <td>2</td>\n",
       "      <td>2.663700</td>\n",
       "      <td>2.607104</td>\n",
       "    </tr>\n",
       "    <tr>\n",
       "      <td>3</td>\n",
       "      <td>2.633200</td>\n",
       "      <td>2.594144</td>\n",
       "    </tr>\n",
       "    <tr>\n",
       "      <td>4</td>\n",
       "      <td>2.596800</td>\n",
       "      <td>2.584388</td>\n",
       "    </tr>\n",
       "    <tr>\n",
       "      <td>5</td>\n",
       "      <td>2.577000</td>\n",
       "      <td>2.576930</td>\n",
       "    </tr>\n",
       "    <tr>\n",
       "      <td>6</td>\n",
       "      <td>2.532100</td>\n",
       "      <td>2.570873</td>\n",
       "    </tr>\n",
       "    <tr>\n",
       "      <td>7</td>\n",
       "      <td>2.509100</td>\n",
       "      <td>2.566514</td>\n",
       "    </tr>\n",
       "    <tr>\n",
       "      <td>8</td>\n",
       "      <td>2.492400</td>\n",
       "      <td>2.561326</td>\n",
       "    </tr>\n",
       "    <tr>\n",
       "      <td>9</td>\n",
       "      <td>2.476400</td>\n",
       "      <td>2.558922</td>\n",
       "    </tr>\n",
       "    <tr>\n",
       "      <td>10</td>\n",
       "      <td>2.436800</td>\n",
       "      <td>2.558588</td>\n",
       "    </tr>\n",
       "    <tr>\n",
       "      <td>11</td>\n",
       "      <td>2.427700</td>\n",
       "      <td>2.554637</td>\n",
       "    </tr>\n",
       "    <tr>\n",
       "      <td>12</td>\n",
       "      <td>2.427100</td>\n",
       "      <td>2.553907</td>\n",
       "    </tr>\n",
       "    <tr>\n",
       "      <td>13</td>\n",
       "      <td>2.394900</td>\n",
       "      <td>2.550812</td>\n",
       "    </tr>\n",
       "    <tr>\n",
       "      <td>14</td>\n",
       "      <td>2.381800</td>\n",
       "      <td>2.548881</td>\n",
       "    </tr>\n",
       "    <tr>\n",
       "      <td>15</td>\n",
       "      <td>2.375900</td>\n",
       "      <td>2.549840</td>\n",
       "    </tr>\n",
       "    <tr>\n",
       "      <td>16</td>\n",
       "      <td>2.342200</td>\n",
       "      <td>2.549609</td>\n",
       "    </tr>\n",
       "    <tr>\n",
       "      <td>17</td>\n",
       "      <td>2.345900</td>\n",
       "      <td>2.548180</td>\n",
       "    </tr>\n",
       "    <tr>\n",
       "      <td>18</td>\n",
       "      <td>2.322400</td>\n",
       "      <td>2.549229</td>\n",
       "    </tr>\n",
       "    <tr>\n",
       "      <td>19</td>\n",
       "      <td>2.324500</td>\n",
       "      <td>2.547538</td>\n",
       "    </tr>\n",
       "    <tr>\n",
       "      <td>20</td>\n",
       "      <td>2.311600</td>\n",
       "      <td>2.550643</td>\n",
       "    </tr>\n",
       "    <tr>\n",
       "      <td>21</td>\n",
       "      <td>2.293500</td>\n",
       "      <td>2.550998</td>\n",
       "    </tr>\n",
       "    <tr>\n",
       "      <td>22</td>\n",
       "      <td>2.284600</td>\n",
       "      <td>2.548470</td>\n",
       "    </tr>\n",
       "    <tr>\n",
       "      <td>23</td>\n",
       "      <td>2.281500</td>\n",
       "      <td>2.548314</td>\n",
       "    </tr>\n",
       "    <tr>\n",
       "      <td>24</td>\n",
       "      <td>2.267600</td>\n",
       "      <td>2.551512</td>\n",
       "    </tr>\n",
       "    <tr>\n",
       "      <td>25</td>\n",
       "      <td>2.278500</td>\n",
       "      <td>2.551866</td>\n",
       "    </tr>\n",
       "    <tr>\n",
       "      <td>26</td>\n",
       "      <td>2.242200</td>\n",
       "      <td>2.550395</td>\n",
       "    </tr>\n",
       "    <tr>\n",
       "      <td>27</td>\n",
       "      <td>2.251500</td>\n",
       "      <td>2.551104</td>\n",
       "    </tr>\n",
       "    <tr>\n",
       "      <td>28</td>\n",
       "      <td>2.248200</td>\n",
       "      <td>2.552977</td>\n",
       "    </tr>\n",
       "    <tr>\n",
       "      <td>29</td>\n",
       "      <td>2.245800</td>\n",
       "      <td>2.552320</td>\n",
       "    </tr>\n",
       "    <tr>\n",
       "      <td>30</td>\n",
       "      <td>2.226300</td>\n",
       "      <td>2.553065</td>\n",
       "    </tr>\n",
       "    <tr>\n",
       "      <td>31</td>\n",
       "      <td>2.236500</td>\n",
       "      <td>2.552569</td>\n",
       "    </tr>\n",
       "    <tr>\n",
       "      <td>32</td>\n",
       "      <td>2.225500</td>\n",
       "      <td>2.552951</td>\n",
       "    </tr>\n",
       "    <tr>\n",
       "      <td>33</td>\n",
       "      <td>2.211300</td>\n",
       "      <td>2.553594</td>\n",
       "    </tr>\n",
       "    <tr>\n",
       "      <td>34</td>\n",
       "      <td>2.199700</td>\n",
       "      <td>2.554323</td>\n",
       "    </tr>\n",
       "    <tr>\n",
       "      <td>35</td>\n",
       "      <td>2.215900</td>\n",
       "      <td>2.555566</td>\n",
       "    </tr>\n",
       "    <tr>\n",
       "      <td>36</td>\n",
       "      <td>2.211600</td>\n",
       "      <td>2.555107</td>\n",
       "    </tr>\n",
       "    <tr>\n",
       "      <td>37</td>\n",
       "      <td>2.194900</td>\n",
       "      <td>2.555664</td>\n",
       "    </tr>\n",
       "    <tr>\n",
       "      <td>38</td>\n",
       "      <td>2.196300</td>\n",
       "      <td>2.555360</td>\n",
       "    </tr>\n",
       "    <tr>\n",
       "      <td>39</td>\n",
       "      <td>2.193300</td>\n",
       "      <td>2.555641</td>\n",
       "    </tr>\n",
       "  </tbody>\n",
       "</table><p>"
      ],
      "text/plain": [
       "<IPython.core.display.HTML object>"
      ]
     },
     "metadata": {},
     "output_type": "display_data"
    }
   ],
   "source": [
    "train_result = trainer.train()\n",
    "trainer.save_model()"
   ]
  },
  {
   "cell_type": "code",
   "execution_count": 12,
   "id": "ac0999b8",
   "metadata": {},
   "outputs": [],
   "source": [
    "log_history = trainer.state.log_history\n",
    "\n",
    "training_losses = []\n",
    "train_steps = []\n",
    "eval_losses = []\n",
    "eval_epochs = []\n",
    "\n",
    "for log_entry in log_history:\n",
    "    if 'loss' in log_entry and 'eval_loss' not in log_entry and 'step' in log_entry:\n",
    "        training_losses.append(log_entry['loss'])\n",
    "        train_steps.append(log_entry['step'])\n",
    "    if 'eval_loss' in log_entry and 'epoch' in log_entry:\n",
    "        eval_losses.append(log_entry['eval_loss'])\n",
    "        eval_epochs.append(round(log_entry['epoch'], 2))"
   ]
  },
  {
   "cell_type": "code",
   "execution_count": 13,
   "id": "0d49d8b1",
   "metadata": {},
   "outputs": [
    {
     "data": {
      "image/png": "[encoded data removed]",
      "text/plain": [
       "<Figure size 1800x700 with 2 Axes>"
      ]
     },
     "metadata": {},
     "output_type": "display_data"
    }
   ],
   "source": [
    "fig, axes = plt.subplots(1, 2, figsize=(18, 7))\n",
    "\n",
    "axes[0].plot(train_steps, training_losses, label='Training Loss', color='blue')\n",
    "axes[0].set_xlabel('Steps')\n",
    "axes[0].set_ylabel('Loss')\n",
    "axes[0].set_title('Training Loss')\n",
    "axes[0].legend()\n",
    "axes[0].grid(True)\n",
    "\n",
    "axes[1].plot(eval_epochs, eval_losses, label='Evaluation Loss', color='red')\n",
    "axes[1].set_xlabel('Epoch')\n",
    "axes[1].set_ylabel('Loss')\n",
    "axes[1].set_title('Evaluation Loss')\n",
    "axes[1].legend()\n",
    "axes[1].grid(True)"
   ]
  },
  {
   "cell_type": "code",
   "execution_count": null,
   "id": "067ca53f",
   "metadata": {},
   "outputs": [],
   "source": []
  }
 ],
 "metadata": {
  "kernelspec": {
   "display_name": "Python 3",
   "language": "python",
   "name": "python3"
  },
  "language_info": {
   "codemirror_mode": {
    "name": "ipython",
    "version": 3
   },
   "file_extension": ".py",
   "mimetype": "text/x-python",
   "name": "python",
   "nbconvert_exporter": "python",
   "pygments_lexer": "ipython3",
   "version": "3.12.4"
  }
 },
 "nbformat": 4,
 "nbformat_minor": 5
}
