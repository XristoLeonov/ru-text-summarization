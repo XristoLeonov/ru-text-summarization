{
  "cells": [
    {
      "cell_type": "code",
      "execution_count": 1,
      "metadata": {
        "colab": {
          "base_uri": "https://localhost:8080/"
        },
        "id": "wHy0-Dn_zyy1",
        "outputId": "78d91759-84a2-411a-9ee8-39ebb70b2147"
      },
      "outputs": [
        {
          "name": "stderr",
          "output_type": "stream",
          "text": [
            "c:\\Users\\Gapba\\anaconda3\\envs\\tf_new_env\\Lib\\site-packages\\tqdm\\auto.py:21: TqdmWarning: IProgress not found. Please update jupyter and ipywidgets. See https://ipywidgets.readthedocs.io/en/stable/user_install.html\n",
            "  from .autonotebook import tqdm as notebook_tqdm\n"
          ]
        },
        {
          "name": "stdout",
          "output_type": "stream",
          "text": [
            "WARNING:tensorflow:From C:\\Users\\Gapba\\AppData\\Roaming\\Python\\Python311\\site-packages\\tf_keras\\src\\losses.py:2976: The name tf.losses.sparse_softmax_cross_entropy is deprecated. Please use tf.compat.v1.losses.sparse_softmax_cross_entropy instead.\n",
            "\n"
          ]
        },
        {
          "data": {
            "text/plain": [
              "True"
            ]
          },
          "execution_count": 1,
          "metadata": {},
          "output_type": "execute_result"
        }
      ],
      "source": [
        "import os\n",
        "import torch\n",
        "import nltk\n",
        "from datasets import load_dataset\n",
        "from transformers import AutoTokenizer, AutoModelForCausalLM, Trainer, TrainingArguments, DataCollatorForSeq2Seq\n",
        "import matplotlib.pyplot as plt\n",
        "\n",
        "nltk.download('punkt_tab', quiet=True)\n",
        "nltk.download('punkt', quiet=True)"
      ]
    },
    {
      "cell_type": "markdown",
      "metadata": {},
      "source": [
        "# Загрузка и подготовка датасета"
      ]
    },
    {
      "cell_type": "code",
      "execution_count": 2,
      "metadata": {
        "id": "9QaoNkhaz9dp"
      },
      "outputs": [],
      "source": [
        "TRAIN_FILE = 'final_data/train.csv'\n",
        "VALID_FILE = 'final_data/validation.csv'\n",
        "\n",
        "MODEL_NAME = \"sberbank-ai/rugpt3medium_based_on_gpt2\"\n",
        "OUTPUT_DIR = \"./results_rugpt3_sum\"\n",
        "\n",
        "MAX_SOURCE_LENGTH = 512\n",
        "MAX_TARGET_LENGTH = 64\n",
        "\n",
        "BATCH_SIZE_PER_DEVICE = 2\n",
        "GRADIENT_ACCUMULATION_STEPS = 8\n",
        "LEARNING_RATE = 0.00001\n",
        "NUM_TRAIN_EPOCHS = 20\n",
        "WEIGHT_DECAY = 0.01"
      ]
    },
    {
      "cell_type": "code",
      "execution_count": 3,
      "metadata": {
        "colab": {
          "base_uri": "https://localhost:8080/"
        },
        "id": "0ZgE_cU20BIF",
        "outputId": "3739fb59-13cd-4bae-cedb-1f0f50955a85"
      },
      "outputs": [
        {
          "name": "stdout",
          "output_type": "stream",
          "text": [
            "Пример данных из train\n",
            "Новость: В Китае от птичьего гриппа умерли по меньшей мере 26 человек. Несмотря на то, что большинство из 127 случаев заболевания были зарегистрированы в восточных провинциях, последний погибший родом из центральной части страны. 1 мая Всемирная организация здравоохранения предупредила, что вирус H7N9 в Китае представляет серьезную опасность для здоровья людей. До сих пор нет доказательств того, что вирус может передаваться от человека к человеку, однако ученые выразили обеспокоенность темпом распространения и серьезностью заболевания.\n",
            "Суммари: Государственные СМИ Китая сообщают, что по меньшей мере 26 человек уже погибли от нового штамма вируса птичьего гриппа.\n"
          ]
        }
      ],
      "source": [
        "data_files = {}\n",
        "data_files[\"train\"] = TRAIN_FILE\n",
        "data_files[\"validation\"] = VALID_FILE\n",
        "raw_datasets = load_dataset(\"csv\", data_files=data_files)\n",
        "\n",
        "print(\"Пример данных из train\")\n",
        "print(f'Новость: {raw_datasets[\"train\"][0][\"text\"]}')\n",
        "print(f'Суммари: {raw_datasets[\"train\"][0][\"summary\"]}')"
      ]
    },
    {
      "cell_type": "code",
      "execution_count": null,
      "metadata": {
        "colab": {
          "base_uri": "https://localhost:8080/"
        },
        "id": "A6dtnSbY0SQ8",
        "outputId": "05a746a3-b29d-4721-eef1-ea766b247ee1"
      },
      "outputs": [],
      "source": [
        "tokenizer = AutoTokenizer.from_pretrained(MODEL_NAME)\n",
        "tokenizer.pad_token = tokenizer.eos_token\n",
        "\n",
        "def preprocess(examples):\n",
        "    input_ids_list = []\n",
        "    labels_list = []\n",
        "    for text, summary in zip(examples[\"text\"], examples[\"summary\"]):\n",
        "        prompt = \"Текст: \" + text.strip() + \" Краткое содержание:\"\n",
        "        tok_p = tokenizer(prompt, truncation=True, max_length=MAX_SOURCE_LENGTH, add_special_tokens=False)\n",
        "        tok_s = tokenizer(summary.strip(), truncation=True, max_length=MAX_TARGET_LENGTH, add_special_tokens=False)\n",
        "\n",
        "        input_ids = tok_p[\"input_ids\"] + tok_s[\"input_ids\"] + [tokenizer.eos_token_id]\n",
        "        labels = [-100] * len(tok_p[\"input_ids\"]) + tok_s[\"input_ids\"] + [tokenizer.eos_token_id]\n",
        "\n",
        "        input_ids_list.append(input_ids)\n",
        "        labels_list.append(labels)\n",
        "\n",
        "    return {\"input_ids\": input_ids_list, \"labels\": labels_list}\n",
        "\n",
        "tokenized_train = raw_datasets[\"train\"].map(preprocess, batched=True, remove_columns=raw_datasets[\"train\"].column_names)\n",
        "tokenized_val = raw_datasets[\"validation\"].map(preprocess, batched=True, remove_columns=raw_datasets[\"validation\"].column_names)"
      ]
    },
    {
      "cell_type": "markdown",
      "metadata": {},
      "source": [
        "# Настройка коллатора, модели и аргументов для обучения "
      ]
    },
    {
      "cell_type": "code",
      "execution_count": 5,
      "metadata": {
        "id": "_zGl3h7x2F6F"
      },
      "outputs": [],
      "source": [
        "model = AutoModelForCausalLM.from_pretrained(MODEL_NAME)\n",
        "\n",
        "data_collator = DataCollatorForSeq2Seq(\n",
        "    tokenizer=tokenizer,\n",
        "    model=model,\n",
        "    pad_to_multiple_of=8,\n",
        "    label_pad_token_id=-100\n",
        ")\n",
        "\n",
        "device = torch.device(\"cuda\" if torch.cuda.is_available() else \"cpu\")\n",
        "model = model.to(device)"
      ]
    },
    {
      "cell_type": "code",
      "execution_count": 8,
      "metadata": {
        "id": "1MBRPwRru5Y2"
      },
      "outputs": [],
      "source": [
        "training_args = TrainingArguments(\n",
        "    output_dir=OUTPUT_DIR,\n",
        "    eval_strategy=\"epoch\",\n",
        "    per_device_train_batch_size=BATCH_SIZE_PER_DEVICE,\n",
        "    per_device_eval_batch_size=BATCH_SIZE_PER_DEVICE,\n",
        "    gradient_accumulation_steps=GRADIENT_ACCUMULATION_STEPS,\n",
        "    learning_rate=LEARNING_RATE,\n",
        "    weight_decay=WEIGHT_DECAY,\n",
        "    num_train_epochs=NUM_TRAIN_EPOCHS,\n",
        "    fp16=torch.cuda.is_available(),\n",
        "    logging_steps=100,\n",
        "    save_strategy=\"epoch\",\n",
        "    report_to=\"none\",\n",
        ")\n",
        "\n",
        "trainer = Trainer(\n",
        "    model=model,\n",
        "    args=training_args,\n",
        "    train_dataset=tokenized_train,\n",
        "    eval_dataset=tokenized_val,\n",
        "    data_collator=data_collator\n",
        ")"
      ]
    },
    {
      "cell_type": "markdown",
      "metadata": {},
      "source": [
        "# Дообучение модели"
      ]
    },
    {
      "cell_type": "code",
      "execution_count": 9,
      "metadata": {
        "colab": {
          "base_uri": "https://localhost:8080/",
          "height": 402
        },
        "id": "zu8gSeRK2H7J",
        "outputId": "bb1a62a0-672c-4c61-da60-8b34449ae2dd"
      },
      "outputs": [
        {
          "name": "stderr",
          "output_type": "stream",
          "text": [
            "`loss_type=None` was set in the config but it is unrecognised.Using the default loss: `ForCausalLMLoss`.\n"
          ]
        },
        {
          "data": {
            "text/html": [
              "\n",
              "    <div>\n",
              "      \n",
              "      <progress value='32260' max='32260' style='width:300px; height:20px; vertical-align: middle;'></progress>\n",
              "      [32260/32260 7:16:20, Epoch 19/20]\n",
              "    </div>\n",
              "    <table border=\"1\" class=\"dataframe\">\n",
              "  <thead>\n",
              " <tr style=\"text-align: left;\">\n",
              "      <th>Epoch</th>\n",
              "      <th>Training Loss</th>\n",
              "      <th>Validation Loss</th>\n",
              "    </tr>\n",
              "  </thead>\n",
              "  <tbody>\n",
              "    <tr>\n",
              "      <td>0</td>\n",
              "      <td>1.746000</td>\n",
              "      <td>1.664876</td>\n",
              "    </tr>\n",
              "    <tr>\n",
              "      <td>1</td>\n",
              "      <td>1.613500</td>\n",
              "      <td>1.643627</td>\n",
              "    </tr>\n",
              "    <tr>\n",
              "      <td>2</td>\n",
              "      <td>1.499400</td>\n",
              "      <td>1.644453</td>\n",
              "    </tr>\n",
              "    <tr>\n",
              "      <td>3</td>\n",
              "      <td>1.430900</td>\n",
              "      <td>1.651185</td>\n",
              "    </tr>\n",
              "    <tr>\n",
              "      <td>4</td>\n",
              "      <td>1.343600</td>\n",
              "      <td>1.662632</td>\n",
              "    </tr>\n",
              "    <tr>\n",
              "      <td>5</td>\n",
              "      <td>1.275600</td>\n",
              "      <td>1.682599</td>\n",
              "    </tr>\n",
              "    <tr>\n",
              "      <td>6</td>\n",
              "      <td>1.210400</td>\n",
              "      <td>1.709254</td>\n",
              "    </tr>\n",
              "    <tr>\n",
              "      <td>7</td>\n",
              "      <td>1.142500</td>\n",
              "      <td>1.732715</td>\n",
              "    </tr>\n",
              "    <tr>\n",
              "      <td>8</td>\n",
              "      <td>1.097100</td>\n",
              "      <td>1.760321</td>\n",
              "    </tr>\n",
              "    <tr>\n",
              "      <td>9</td>\n",
              "      <td>1.036900</td>\n",
              "      <td>1.791246</td>\n",
              "    </tr>\n",
              "    <tr>\n",
              "      <td>10</td>\n",
              "      <td>0.974500</td>\n",
              "      <td>1.812125</td>\n",
              "    </tr>\n",
              "    <tr>\n",
              "      <td>11</td>\n",
              "      <td>0.949300</td>\n",
              "      <td>1.837435</td>\n",
              "    </tr>\n",
              "    <tr>\n",
              "      <td>12</td>\n",
              "      <td>0.927200</td>\n",
              "      <td>1.871955</td>\n",
              "    </tr>\n",
              "    <tr>\n",
              "      <td>13</td>\n",
              "      <td>0.882200</td>\n",
              "      <td>1.890822</td>\n",
              "    </tr>\n",
              "    <tr>\n",
              "      <td>14</td>\n",
              "      <td>0.867200</td>\n",
              "      <td>1.907410</td>\n",
              "    </tr>\n",
              "    <tr>\n",
              "      <td>15</td>\n",
              "      <td>0.848700</td>\n",
              "      <td>1.921240</td>\n",
              "    </tr>\n",
              "    <tr>\n",
              "      <td>16</td>\n",
              "      <td>0.822000</td>\n",
              "      <td>1.933850</td>\n",
              "    </tr>\n",
              "    <tr>\n",
              "      <td>17</td>\n",
              "      <td>0.805700</td>\n",
              "      <td>1.953011</td>\n",
              "    </tr>\n",
              "    <tr>\n",
              "      <td>18</td>\n",
              "      <td>0.792500</td>\n",
              "      <td>1.961185</td>\n",
              "    </tr>\n",
              "    <tr>\n",
              "      <td>19</td>\n",
              "      <td>0.782900</td>\n",
              "      <td>1.965644</td>\n",
              "    </tr>\n",
              "  </tbody>\n",
              "</table><p>"
            ],
            "text/plain": [
              "<IPython.core.display.HTML object>"
            ]
          },
          "metadata": {},
          "output_type": "display_data"
        }
      ],
      "source": [
        "trainer.train()\n",
        "trainer.save_model()"
      ]
    },
    {
      "cell_type": "code",
      "execution_count": 10,
      "metadata": {
        "id": "DoUZmwO03uh5"
      },
      "outputs": [],
      "source": [
        "log_history = trainer.state.log_history\n",
        "\n",
        "training_losses = []\n",
        "train_steps = []\n",
        "eval_losses = []\n",
        "eval_epochs = []\n",
        "\n",
        "for log_entry in log_history:\n",
        "    if 'loss' in log_entry and 'eval_loss' not in log_entry and 'step' in log_entry:\n",
        "        training_losses.append(log_entry['loss'])\n",
        "        train_steps.append(log_entry['step'])\n",
        "    if 'eval_loss' in log_entry and 'epoch' in log_entry:\n",
        "        eval_losses.append(log_entry['eval_loss'])\n",
        "        eval_epochs.append(round(log_entry['epoch'], 2))"
      ]
    },
    {
      "cell_type": "code",
      "execution_count": 11,
      "metadata": {
        "colab": {
          "base_uri": "https://localhost:8080/",
          "height": 641
        },
        "id": "hS_IauZB3xOp",
        "outputId": "ecd9aa0b-280a-4b89-884a-40c1fb20277c"
      },
      "outputs": [
        {
          "data": {
            "image/png": "[encoded data removed]",
            "text/plain": [
              "<Figure size 1800x700 with 2 Axes>"
            ]
          },
          "metadata": {},
          "output_type": "display_data"
        }
      ],
      "source": [
        "fig, axes = plt.subplots(1, 2, figsize=(18, 7))\n",
        "\n",
        "axes[0].plot(train_steps, training_losses, label='Training Loss', color='blue')\n",
        "axes[0].set_xlabel('Steps')\n",
        "axes[0].set_ylabel('Loss')\n",
        "axes[0].set_title('Training Loss')\n",
        "axes[0].legend()\n",
        "axes[0].grid(True)\n",
        "\n",
        "axes[1].plot(eval_epochs, eval_losses, label='Evaluation Loss', color='red')\n",
        "axes[1].set_xlabel('Epoch')\n",
        "axes[1].set_ylabel('Loss')\n",
        "axes[1].set_title('Evaluation Loss')\n",
        "axes[1].legend()\n",
        "axes[1].grid(True)"
      ]
    }
  ],
  "metadata": {
    "accelerator": "GPU",
    "colab": {
      "gpuType": "T4",
      "provenance": []
    },
    "kernelspec": {
      "display_name": ".venv",
      "language": "python",
      "name": "python3"
    },
    "language_info": {
      "codemirror_mode": {
        "name": "ipython",
        "version": 3
      },
      "file_extension": ".py",
      "mimetype": "text/x-python",
      "name": "python",
      "nbconvert_exporter": "python",
      "pygments_lexer": "ipython3",
      "version": "3.12.4"
    }
  },
  "nbformat": 4,
  "nbformat_minor": 0
}
