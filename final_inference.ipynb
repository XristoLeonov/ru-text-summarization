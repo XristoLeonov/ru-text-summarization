{
 "cells": [
  {
   "cell_type": "code",
   "execution_count": 2,
   "id": "326e9625",
   "metadata": {},
   "outputs": [],
   "source": [
    "import pandas as pd\n",
    "import os\n",
    "import torch\n",
    "from datasets import load_dataset\n",
    "import textwrap\n",
    "\n",
    "from transformers import AutoTokenizer, AutoModelForCausalLM, AutoModelForSeq2SeqLM, T5Tokenizer, MBartTokenizer, MBartForConditionalGeneration, MT5Tokenizer, MT5ForConditionalGeneration\n"
   ]
  },
  {
   "cell_type": "markdown",
   "id": "6c6135b3",
   "metadata": {},
   "source": [
    "# Определение лучшего чекпоинта для каждой модели"
   ]
  },
  {
   "cell_type": "code",
   "execution_count": 14,
   "id": "7541a84e",
   "metadata": {},
   "outputs": [
    {
     "data": {
      "text/html": [
       "<div>\n",
       "<style scoped>\n",
       "    .dataframe tbody tr th:only-of-type {\n",
       "        vertical-align: middle;\n",
       "    }\n",
       "\n",
       "    .dataframe tbody tr th {\n",
       "        vertical-align: top;\n",
       "    }\n",
       "\n",
       "    .dataframe thead th {\n",
       "        text-align: right;\n",
       "    }\n",
       "</style>\n",
       "<table border=\"1\" class=\"dataframe\">\n",
       "  <thead>\n",
       "    <tr style=\"text-align: right;\">\n",
       "      <th></th>\n",
       "      <th>checkpoint</th>\n",
       "      <th>gen_len</th>\n",
       "      <th>rouge1_f</th>\n",
       "      <th>rouge2_f</th>\n",
       "      <th>rougel_f</th>\n",
       "      <th>bert_score_f1</th>\n",
       "      <th>chrf++</th>\n",
       "      <th>bleu</th>\n",
       "      <th>meteor</th>\n",
       "    </tr>\n",
       "  </thead>\n",
       "  <tbody>\n",
       "    <tr>\n",
       "      <th>0</th>\n",
       "      <td>checkpoint-1</td>\n",
       "      <td>28.5254</td>\n",
       "      <td>27.5093</td>\n",
       "      <td>12.8689</td>\n",
       "      <td>24.9481</td>\n",
       "      <td>76.9721</td>\n",
       "      <td>36.8263</td>\n",
       "      <td>8.7239</td>\n",
       "      <td>25.7877</td>\n",
       "    </tr>\n",
       "    <tr>\n",
       "      <th>1</th>\n",
       "      <td>checkpoint-5</td>\n",
       "      <td>29.5675</td>\n",
       "      <td>29.6157</td>\n",
       "      <td>14.3995</td>\n",
       "      <td>26.8771</td>\n",
       "      <td>77.9207</td>\n",
       "      <td>39.0962</td>\n",
       "      <td>10.2914</td>\n",
       "      <td>28.3542</td>\n",
       "    </tr>\n",
       "    <tr>\n",
       "      <th>2</th>\n",
       "      <td>checkpoint-10</td>\n",
       "      <td>29.5421</td>\n",
       "      <td>30.4751</td>\n",
       "      <td>15.0693</td>\n",
       "      <td>27.7050</td>\n",
       "      <td>78.2533</td>\n",
       "      <td>39.8055</td>\n",
       "      <td>10.7023</td>\n",
       "      <td>29.0795</td>\n",
       "    </tr>\n",
       "    <tr>\n",
       "      <th>3</th>\n",
       "      <td>checkpoint-15</td>\n",
       "      <td>29.6419</td>\n",
       "      <td>30.6070</td>\n",
       "      <td>15.1734</td>\n",
       "      <td>27.8276</td>\n",
       "      <td>78.3665</td>\n",
       "      <td>39.9895</td>\n",
       "      <td>10.7479</td>\n",
       "      <td>29.2643</td>\n",
       "    </tr>\n",
       "    <tr>\n",
       "      <th>4</th>\n",
       "      <td>checkpoint-20</td>\n",
       "      <td>29.7094</td>\n",
       "      <td>30.7346</td>\n",
       "      <td>15.2225</td>\n",
       "      <td>27.9426</td>\n",
       "      <td>78.3572</td>\n",
       "      <td>40.0573</td>\n",
       "      <td>10.9116</td>\n",
       "      <td>29.4225</td>\n",
       "    </tr>\n",
       "  </tbody>\n",
       "</table>\n",
       "</div>"
      ],
      "text/plain": [
       "      checkpoint  gen_len  rouge1_f  rouge2_f  rougel_f  bert_score_f1  \\\n",
       "0   checkpoint-1  28.5254   27.5093   12.8689   24.9481        76.9721   \n",
       "1   checkpoint-5  29.5675   29.6157   14.3995   26.8771        77.9207   \n",
       "2  checkpoint-10  29.5421   30.4751   15.0693   27.7050        78.2533   \n",
       "3  checkpoint-15  29.6419   30.6070   15.1734   27.8276        78.3665   \n",
       "4  checkpoint-20  29.7094   30.7346   15.2225   27.9426        78.3572   \n",
       "\n",
       "    chrf++     bleu   meteor  \n",
       "0  36.8263   8.7239  25.7877  \n",
       "1  39.0962  10.2914  28.3542  \n",
       "2  39.8055  10.7023  29.0795  \n",
       "3  39.9895  10.7479  29.2643  \n",
       "4  40.0573  10.9116  29.4225  "
      ]
     },
     "execution_count": 14,
     "metadata": {},
     "output_type": "execute_result"
    }
   ],
   "source": [
    "metrics_ruT5 = pd.read_csv('metrics/metrics_ruT5.csv')\n",
    "metrics_ruT5"
   ]
  },
  {
   "cell_type": "markdown",
   "id": "0489ed8a",
   "metadata": {},
   "source": [
    "Последний чекпоинт для модели ruT5-base оказался наилучшим по всем метрикам"
   ]
  },
  {
   "cell_type": "code",
   "execution_count": 15,
   "id": "8bb42651",
   "metadata": {},
   "outputs": [
    {
     "data": {
      "text/html": [
       "<div>\n",
       "<style scoped>\n",
       "    .dataframe tbody tr th:only-of-type {\n",
       "        vertical-align: middle;\n",
       "    }\n",
       "\n",
       "    .dataframe tbody tr th {\n",
       "        vertical-align: top;\n",
       "    }\n",
       "\n",
       "    .dataframe thead th {\n",
       "        text-align: right;\n",
       "    }\n",
       "</style>\n",
       "<table border=\"1\" class=\"dataframe\">\n",
       "  <thead>\n",
       "    <tr style=\"text-align: right;\">\n",
       "      <th></th>\n",
       "      <th>checkpoint</th>\n",
       "      <th>gen_len</th>\n",
       "      <th>rouge1_f</th>\n",
       "      <th>rouge2_f</th>\n",
       "      <th>rougel_f</th>\n",
       "      <th>bert_score_f1</th>\n",
       "      <th>chrf++</th>\n",
       "      <th>bleu</th>\n",
       "      <th>meteor</th>\n",
       "    </tr>\n",
       "  </thead>\n",
       "  <tbody>\n",
       "    <tr>\n",
       "      <th>0</th>\n",
       "      <td>checkpoint-1</td>\n",
       "      <td>24.9628</td>\n",
       "      <td>22.3090</td>\n",
       "      <td>9.3042</td>\n",
       "      <td>20.1036</td>\n",
       "      <td>73.3188</td>\n",
       "      <td>29.3804</td>\n",
       "      <td>6.0272</td>\n",
       "      <td>21.5824</td>\n",
       "    </tr>\n",
       "    <tr>\n",
       "      <th>1</th>\n",
       "      <td>checkpoint-10</td>\n",
       "      <td>22.3563</td>\n",
       "      <td>24.6596</td>\n",
       "      <td>11.2175</td>\n",
       "      <td>22.3052</td>\n",
       "      <td>74.7099</td>\n",
       "      <td>32.5906</td>\n",
       "      <td>8.6051</td>\n",
       "      <td>24.6576</td>\n",
       "    </tr>\n",
       "    <tr>\n",
       "      <th>2</th>\n",
       "      <td>checkpoint-20</td>\n",
       "      <td>19.0366</td>\n",
       "      <td>25.4454</td>\n",
       "      <td>11.6954</td>\n",
       "      <td>23.0045</td>\n",
       "      <td>75.4493</td>\n",
       "      <td>32.9665</td>\n",
       "      <td>9.3725</td>\n",
       "      <td>25.2293</td>\n",
       "    </tr>\n",
       "    <tr>\n",
       "      <th>3</th>\n",
       "      <td>checkpoint-30</td>\n",
       "      <td>19.3306</td>\n",
       "      <td>25.7735</td>\n",
       "      <td>11.9392</td>\n",
       "      <td>23.3381</td>\n",
       "      <td>75.5763</td>\n",
       "      <td>33.2885</td>\n",
       "      <td>9.5952</td>\n",
       "      <td>25.5423</td>\n",
       "    </tr>\n",
       "    <tr>\n",
       "      <th>4</th>\n",
       "      <td>checkpoint-40</td>\n",
       "      <td>18.2206</td>\n",
       "      <td>25.7682</td>\n",
       "      <td>11.9178</td>\n",
       "      <td>23.3153</td>\n",
       "      <td>75.6450</td>\n",
       "      <td>33.3899</td>\n",
       "      <td>9.5557</td>\n",
       "      <td>25.6184</td>\n",
       "    </tr>\n",
       "  </tbody>\n",
       "</table>\n",
       "</div>"
      ],
      "text/plain": [
       "      checkpoint  gen_len  rouge1_f  rouge2_f  rougel_f  bert_score_f1  \\\n",
       "0   checkpoint-1  24.9628   22.3090    9.3042   20.1036        73.3188   \n",
       "1  checkpoint-10  22.3563   24.6596   11.2175   22.3052        74.7099   \n",
       "2  checkpoint-20  19.0366   25.4454   11.6954   23.0045        75.4493   \n",
       "3  checkpoint-30  19.3306   25.7735   11.9392   23.3381        75.5763   \n",
       "4  checkpoint-40  18.2206   25.7682   11.9178   23.3153        75.6450   \n",
       "\n",
       "    chrf++    bleu   meteor  \n",
       "0  29.3804  6.0272  21.5824  \n",
       "1  32.5906  8.6051  24.6576  \n",
       "2  32.9665  9.3725  25.2293  \n",
       "3  33.2885  9.5952  25.5423  \n",
       "4  33.3899  9.5557  25.6184  "
      ]
     },
     "execution_count": 15,
     "metadata": {},
     "output_type": "execute_result"
    }
   ],
   "source": [
    "metrics_rugpt3small = pd.read_csv('metrics/metrics_rugpt3small.csv')\n",
    "metrics_rugpt3small"
   ]
  },
  {
   "cell_type": "markdown",
   "id": "d8e1eb9b",
   "metadata": {},
   "source": [
    "Последний чекпоинт для модели ruGPT3-small оказался наилучшим почти по всем метрикам"
   ]
  },
  {
   "cell_type": "code",
   "execution_count": null,
   "id": "e731b5ca",
   "metadata": {},
   "outputs": [
    {
     "data": {
      "text/html": [
       "<div>\n",
       "<style scoped>\n",
       "    .dataframe tbody tr th:only-of-type {\n",
       "        vertical-align: middle;\n",
       "    }\n",
       "\n",
       "    .dataframe tbody tr th {\n",
       "        vertical-align: top;\n",
       "    }\n",
       "\n",
       "    .dataframe thead th {\n",
       "        text-align: right;\n",
       "    }\n",
       "</style>\n",
       "<table border=\"1\" class=\"dataframe\">\n",
       "  <thead>\n",
       "    <tr style=\"text-align: right;\">\n",
       "      <th></th>\n",
       "      <th>checkpoint</th>\n",
       "      <th>gen_len</th>\n",
       "      <th>rouge1_f</th>\n",
       "      <th>rouge2_f</th>\n",
       "      <th>rougel_f</th>\n",
       "      <th>bert_score_f1</th>\n",
       "      <th>chrf++</th>\n",
       "      <th>bleu</th>\n",
       "      <th>meteor</th>\n",
       "    </tr>\n",
       "  </thead>\n",
       "  <tbody>\n",
       "    <tr>\n",
       "      <th>0</th>\n",
       "      <td>checkpoint-1</td>\n",
       "      <td>16.8448</td>\n",
       "      <td>27.6208</td>\n",
       "      <td>13.1655</td>\n",
       "      <td>24.7906</td>\n",
       "      <td>76.6617</td>\n",
       "      <td>34.5505</td>\n",
       "      <td>10.2944</td>\n",
       "      <td>27.2294</td>\n",
       "    </tr>\n",
       "    <tr>\n",
       "      <th>1</th>\n",
       "      <td>checkpoint-2</td>\n",
       "      <td>17.0465</td>\n",
       "      <td>27.5998</td>\n",
       "      <td>13.1305</td>\n",
       "      <td>24.8251</td>\n",
       "      <td>76.8588</td>\n",
       "      <td>35.2836</td>\n",
       "      <td>10.3490</td>\n",
       "      <td>27.5693</td>\n",
       "    </tr>\n",
       "    <tr>\n",
       "      <th>2</th>\n",
       "      <td>checkpoint-3</td>\n",
       "      <td>17.3789</td>\n",
       "      <td>28.0156</td>\n",
       "      <td>13.5553</td>\n",
       "      <td>25.2542</td>\n",
       "      <td>76.9728</td>\n",
       "      <td>35.6485</td>\n",
       "      <td>10.6785</td>\n",
       "      <td>27.8397</td>\n",
       "    </tr>\n",
       "    <tr>\n",
       "      <th>3</th>\n",
       "      <td>checkpoint-5</td>\n",
       "      <td>17.3086</td>\n",
       "      <td>28.3472</td>\n",
       "      <td>13.6715</td>\n",
       "      <td>25.6117</td>\n",
       "      <td>77.1060</td>\n",
       "      <td>36.0550</td>\n",
       "      <td>10.9312</td>\n",
       "      <td>28.2693</td>\n",
       "    </tr>\n",
       "    <tr>\n",
       "      <th>4</th>\n",
       "      <td>checkpoint-10</td>\n",
       "      <td>17.9393</td>\n",
       "      <td>28.5318</td>\n",
       "      <td>13.7822</td>\n",
       "      <td>25.7967</td>\n",
       "      <td>77.0877</td>\n",
       "      <td>37.1313</td>\n",
       "      <td>11.3196</td>\n",
       "      <td>28.8166</td>\n",
       "    </tr>\n",
       "    <tr>\n",
       "      <th>5</th>\n",
       "      <td>checkpoint-20</td>\n",
       "      <td>23.2076</td>\n",
       "      <td>27.0257</td>\n",
       "      <td>12.5114</td>\n",
       "      <td>24.4839</td>\n",
       "      <td>76.1750</td>\n",
       "      <td>38.8347</td>\n",
       "      <td>10.7231</td>\n",
       "      <td>29.0458</td>\n",
       "    </tr>\n",
       "  </tbody>\n",
       "</table>\n",
       "</div>"
      ],
      "text/plain": [
       "      checkpoint  gen_len  rouge1_f  rouge2_f  rougel_f  bert_score_f1  \\\n",
       "0   checkpoint-1  16.8448   27.6208   13.1655   24.7906        76.6617   \n",
       "1   checkpoint-2  17.0465   27.5998   13.1305   24.8251        76.8588   \n",
       "2   checkpoint-3  17.3789   28.0156   13.5553   25.2542        76.9728   \n",
       "3   checkpoint-5  17.3086   28.3472   13.6715   25.6117        77.1060   \n",
       "4  checkpoint-10  17.9393   28.5318   13.7822   25.7967        77.0877   \n",
       "5  checkpoint-20  23.2076   27.0257   12.5114   24.4839        76.1750   \n",
       "\n",
       "    chrf++     bleu   meteor  \n",
       "0  34.5505  10.2944  27.2294  \n",
       "1  35.2836  10.3490  27.5693  \n",
       "2  35.6485  10.6785  27.8397  \n",
       "3  36.0550  10.9312  28.2693  \n",
       "4  37.1313  11.3196  28.8166  \n",
       "5  38.8347  10.7231  29.0458  "
      ]
     },
     "execution_count": 21,
     "metadata": {},
     "output_type": "execute_result"
    }
   ],
   "source": [
    "metrics_rugpt3medium1 = pd.read_csv('metrics/metrics_rugpt3medium1.csv')\n",
    "metrics_rugpt3medium2 = pd.read_csv('metrics/metrics_rugpt3medium2.csv')\n",
    "metrics_rugpt3medium = pd.concat([metrics_rugpt3medium1, metrics_rugpt3medium2], ignore_index=True)\n",
    "metrics_rugpt3medium"
   ]
  },
  {
   "cell_type": "markdown",
   "id": "b13ef132",
   "metadata": {},
   "source": [
    "Для модели ruGPT3-medium наилучшим по большинству метрикам оказался 20 чекпоинт"
   ]
  },
  {
   "cell_type": "markdown",
   "id": "5edee18f",
   "metadata": {},
   "source": [
    "## Вывод\n",
    "\n",
    "Для оценки предиктов будем использовать следующие чекпоинты для моделей\n",
    "\n",
    "- ruT5-base - checkpoint-20\n",
    "- ruGPT3-small-base - checkpoint-40\n",
    "- ruGPT3-medium - checkpoint-20"
   ]
  },
  {
   "cell_type": "markdown",
   "id": "7ea4debc",
   "metadata": {},
   "source": [
    "# Оценка предиктов моделей"
   ]
  },
  {
   "cell_type": "code",
   "execution_count": null,
   "id": "5b0e1d05",
   "metadata": {},
   "outputs": [],
   "source": [
    "\n",
    "WRAP_WIDTH = 160\n",
    "\n",
    "def init_gpt(tokenizer_name, model_path):\n",
    "    tok = AutoTokenizer.from_pretrained(tokenizer_name)\n",
    "    tok.pad_token = tok.eos_token\n",
    "    mdl = AutoModelForCausalLM.from_pretrained(model_path)\n",
    "    mdl.config.pad_token_id = tok.pad_token_id\n",
    "    mdl.to(device).eval()\n",
    "    return tok, mdl\n",
    "\n",
    "\n",
    "def init_seq2seq(tok_class, tokenizer_name, model_path):\n",
    "    tok = tok_class.from_pretrained(tokenizer_name)\n",
    "    mdl = AutoModelForSeq2SeqLM.from_pretrained(model_path)\n",
    "    mdl.to(device).eval()\n",
    "    return tok, mdl\n",
    "\n",
    "\n",
    "MODELS = {\n",
    "    \"ruGPT3medium\": {\"type\": \"gpt\", \"tokenizer\": (AutoTokenizer, \"sberbank-ai/rugpt3medium_based_on_gpt2\"), \"model\": (None, \"checkpoints/ruGPT3medium_sum/checkpoint-20\"), \"max_length\": 64},\n",
    "    \"ruGPT3small\" : {\"type\": \"gpt\", \"tokenizer\": (AutoTokenizer, \"sberbank-ai/rugpt3small_based_on_gpt2\"), \"model\": (None, \"checkpoints/ruGPT3small_sum/checkpoint-40\"), \"max_length\": 64},\n",
    "    \"ruT5\"        : {\"type\": \"t5\",    \"tokenizer\": (T5Tokenizer, \"ai-forever/ruT5-base\"),                   \"model\": (None, \"checkpoints/ruT5_sum/checkpoint-20\"),           \"max_length\": 64, \"gen_kwargs\": {\"num_beams\": 4, \"no_repeat_ngram_size\": 4, \"early_stopping\": True}},\n",
    "    \"mbart\"       : {\"type\": \"mbart\", \"tokenizer\": (MBartTokenizer, \"IlyaGusev/mbart_ru_sum_gazeta\"), \"model\": (MBartForConditionalGeneration, \"IlyaGusev/mbart_ru_sum_gazeta\"), \"max_length\": 200, \"gen_kwargs\": {\"num_beams\": 5, \"no_repeat_ngram_size\": 4, \"early_stopping\": True}},\n",
    "    \"mt5\"         : {\"type\": \"mt5\",   \"tokenizer\": (MT5Tokenizer, \"csebuetnlp/mT5_multilingual_XLSum\"),    \"model\": (MT5ForConditionalGeneration, \"csebuetnlp/mT5_multilingual_XLSum\"), \"max_length\": 84, \"gen_kwargs\": {\"num_beams\": 4, \"no_repeat_ngram_size\": 2, \"early_stopping\": True}},}\n",
    "\n",
    "device = torch.device(\"cuda\" if torch.cuda.is_available() else \"cpu\")\n",
    "\n",
    "def summarize_text(user_text: str) -> dict:\n",
    "    results = {}\n",
    "\n",
    "    for name, cfg in MODELS.items():\n",
    "        # инициализация\n",
    "        tok_class, tok_name = cfg['tokenizer']\n",
    "        mdl_class, mdl_path = cfg['model']\n",
    "        if cfg['type'] == 'gpt':\n",
    "            tokenizer, model = init_gpt(tok_name, mdl_path)\n",
    "        elif cfg['type'] == 't5':\n",
    "            tokenizer, model = init_seq2seq(T5Tokenizer, tok_name, mdl_path)\n",
    "        elif cfg['type'] == 'mbart':\n",
    "            tokenizer = MBartTokenizer.from_pretrained(tok_name)\n",
    "            tokenizer.src_lang = 'ru_RU'\n",
    "            model = MBartForConditionalGeneration.from_pretrained(mdl_path).to(device).eval()\n",
    "        elif cfg['type'] == 'mt5':\n",
    "            tokenizer, model = init_seq2seq(MT5Tokenizer, tok_name, mdl_path)\n",
    "\n",
    "\n",
    "        if cfg['type'] == 'gpt':\n",
    "            prompt = f\"Сделай краткое содержание следующего текста и только не придумывай то, чего нет в тексте: {user_text} Сводка:\"\n",
    "            inputs = tokenizer(prompt, return_tensors='pt', truncation=True).to(device)\n",
    "            gen_ids = model.generate(\n",
    "                inputs.input_ids,\n",
    "                max_new_tokens=cfg['max_length'],\n",
    "                do_sample=True,\n",
    "                top_p=0.9,\n",
    "                no_repeat_ngram_size=2,\n",
    "                eos_token_id=tokenizer.eos_token_id,\n",
    "                pad_token_id=tokenizer.pad_token_id,\n",
    "            )\n",
    "            summary = tokenizer.decode(gen_ids[0][inputs.input_ids.shape[1]:], skip_special_tokens=True).strip()\n",
    "        else:\n",
    "            inputs = tokenizer(user_text, return_tensors='pt', truncation=True, padding='longest', max_length=512).to(device)\n",
    "            gen_kwargs = cfg.get('gen_kwargs', {})\n",
    "            if cfg['type'] == 'mbart':\n",
    "                gen_kwargs['forced_bos_token_id'] = tokenizer.lang_code_to_id[tokenizer.src_lang]\n",
    "            gen_ids = model.generate(**inputs,max_length=cfg['max_length'],**gen_kwargs)\n",
    "            summary = tokenizer.decode(gen_ids[0], skip_special_tokens=True).strip()\n",
    "            \n",
    "        results[name] = summary\n",
    "    return results\n",
    "\n",
    "\n"
   ]
  },
  {
   "cell_type": "code",
   "execution_count": 28,
   "id": "372df1dc",
   "metadata": {},
   "outputs": [
    {
     "name": "stdout",
     "output_type": "stream",
     "text": [
      "Новость\n",
      "Число погибших от торнадо в США увеличилось до 27 Как минимум 27 человек погибли в результате торнадо и штормов в центральной части США, передает The New York\n",
      "Times. Из них 25 находились в штатах Миссури и Кентукки, 2 — в Северной Вирджинии.  В Кентукки еще не менее десяти человек получили ранения, их состояние\n",
      "оценивается как тяжелое, сообщил губернатор Энди Бешир. В штате Висконсин в результате торнадо без света остались сотни тысяч человек, пишет Sky News. В городе\n",
      "Сент-Луис повреждены более 5 тыс. домов.  Национальная метеорологическая служба США предупредила, что в ближайшее время шторм и торнадо направятся в сторону\n",
      "штатов Техас, Канзас и Оклахома. Там ожидаются «сильные грозы, очень крупный град и разрушительные порывы ветра».\n"
     ]
    },
    {
     "name": "stderr",
     "output_type": "stream",
     "text": [
      "Special tokens have been added in the vocabulary, make sure the associated word embeddings are fine-tuned or trained.\n"
     ]
    },
    {
     "name": "stdout",
     "output_type": "stream",
     "text": [
      "\n",
      "--- ruGPT3medium summary ---\n",
      "В результате разрушительного урагана \"Харви\" в американском штате Кентавр погибли по меньшей мере 37 человек.\n",
      "\n",
      "--- ruGPT3small summary ---\n",
      "По данным американской гражданской службы здравоохранения, от урагана в городе Сан-Франциско погибли по меньшей мере 273 человека, еще 291 человек находится в\n",
      "больницах, сообщает Associated Press. Шторм \"Мэтью\" В пятницу \"мэтья\" обрушился на штат Кент. Он привел к повреждению линий электроп\n",
      "\n",
      "--- ruT5 summary ---\n",
      "По меньшей мере 27 человек погибли в результате торнадо и штормов в центральной части США.\n",
      "\n",
      "--- mbart summary ---\n",
      "Число погибших от торнадо в США увеличилось до 27 Как минимум 27 человек погибли в результате торнадо и штормов в центральной части США. Из них 25 находились в\n",
      "штатах Миссури и Кентукки, 2 — в Северной Вирджинии. В штате Висконсин без света остались сотни тысяч человек.\n",
      "\n",
      "--- mt5 summary ---\n",
      "Число погибших от торнадо и штормов в США увеличилось до 27 человек.\n"
     ]
    }
   ],
   "source": [
    "text = input()\n",
    "print('Новость')\n",
    "print(textwrap.fill(text, width=WRAP_WIDTH))\n",
    "summaries = summarize_text(text)\n",
    "for model_name, summary in summaries.items():\n",
    "    print(f\"\\n--- {model_name} summary ---\")\n",
    "    print(textwrap.fill(summary, width=WRAP_WIDTH))"
   ]
  },
  {
   "cell_type": "code",
   "execution_count": 29,
   "id": "c3a6ee88",
   "metadata": {},
   "outputs": [
    {
     "name": "stdout",
     "output_type": "stream",
     "text": [
      "Новость\n",
      "Парусное судно ВМС Мекскики ARM Cuauhtemoc врезалось в Бруклинский мост в Нью-Йорке. Одна из его мачт в результате столкновений упала на палубу. Пострадали как\n",
      "минимум 20 человек.  Cтолкновение произошло около 21:00 по Нью-Йорку (4:00 мск). По информации Bloomberg, на борту находились 277 человек.  Мэр Нью-Йорка Эрик\n",
      "Адамс сообщил о 19 пострадавших. Четверо находятся в тяжелом состоянии. Людей продолжают доставать из воды.  Как писала New York Post, судно ARM Cuauhtemoc\n",
      "прибыло в Нью-Йорк 13 мая. На нем находились в том числе 175 кадетов ВМС Мексики. Остановка стала третьей в восьмимесячном кругосветном путешествии. В\n",
      "дальнейшем судно должно было зайти в порты в том числе Ямайки, Исландии и Португалии.\n"
     ]
    },
    {
     "name": "stderr",
     "output_type": "stream",
     "text": [
      "Special tokens have been added in the vocabulary, make sure the associated word embeddings are fine-tuned or trained.\n"
     ]
    },
    {
     "name": "stdout",
     "output_type": "stream",
     "text": [
      "\n",
      "--- ruGPT3medium summary ---\n",
      "Судно ВМС Мексики врезалась в здание суда и загорелось.\n",
      "\n",
      "--- ruGPT3small summary ---\n",
      "Корабли ВМС Колумбии и Новой Зеландии продолжают получать помощь и поддержку от властей Колумбийского региона. Президент Колумбия Хуан Мануэль Сантос поздравил\n",
      "экипаж с возвращением домой. Он сказал, что на судне \"остается большое количество людей, и они нуждаются в поддержке\". Колумбанец получил ранение в шею во время\n",
      "столкновения\n",
      "\n",
      "--- ruT5 summary ---\n",
      "Парусное судно ВМС Мексики врезалось в Бруклинский мост в Нью-Йорке.\n",
      "\n",
      "--- mbart summary ---\n",
      "В Нью-Йорке парусное судно ВМС Мекскики ARM Cuauhtemoc врезалось в Бруклинский мост в результате столкновений. Пострадали как минимум 20 человек. Мэр Нью-Йорка\n",
      "Эрик Адамс сообщил о 19 пострадавших. Четверо находятся в тяжелом состоянии. Людей продолжают доставать из воды.\n",
      "\n",
      "--- mt5 summary ---\n",
      "По меньшей мере 20 человек погибли в результате столкновений между судном ВМС Мексики и мостом в Нью-Йорке.\n"
     ]
    }
   ],
   "source": [
    "text = input()\n",
    "print('Новость')\n",
    "print(textwrap.fill(text, width=WRAP_WIDTH))\n",
    "summaries = summarize_text(text)\n",
    "for model_name, summary in summaries.items():\n",
    "    print(f\"\\n--- {model_name} summary ---\")\n",
    "    print(textwrap.fill(summary, width=WRAP_WIDTH))"
   ]
  },
  {
   "cell_type": "code",
   "execution_count": 32,
   "id": "7e7e145b",
   "metadata": {},
   "outputs": [
    {
     "name": "stdout",
     "output_type": "stream",
     "text": [
      "Новость\n",
      "Австрия выиграла «Евровидение» Австрийский исполнитель JJ выиграл конкурс «Евровидение-2025» с песней Wasted Love. Он набрал 436 баллов. Второе место заняла\n",
      "Юваль Рафаэль из Израиля (357), третье —Томми Кэш из Эстонии (356). JJ победил в том числе в голосовании жюри, которое отдало певцу 258 баллов, говорится в\n",
      "сообщении на сайте «Евровидения». Еще 176 баллов исполнитель получил по итогам голосования телезрителей  В десятку лидеров «Евровидения-2025» вошли:  Австрия\n",
      "(436 баллов); Израиль (357); Эстония (356); Швеция (321); Италия (256); Греция (231); Франция (230); Албания (218); Украина (218); Швейцария (214). Меньше всех\n",
      "баллов набрали Сан-Марино (27), Исландия (33), Испания (37). Всего в конкурсе участвовали 37 стран, в финале выступили 26 артистов.  «Евровидение-2025»\n",
      "проходило в швейцарском Базеле с 13 по 17 мая. Россия последний раз участвовала в конкурсе в 2021 году.\n"
     ]
    },
    {
     "name": "stderr",
     "output_type": "stream",
     "text": [
      "Special tokens have been added in the vocabulary, make sure the associated word embeddings are fine-tuned or trained.\n"
     ]
    },
    {
     "name": "stdout",
     "output_type": "stream",
     "text": [
      "\n",
      "--- ruGPT3medium summary ---\n",
      "Австрия набрала 437 баллов;JJ стал победителем в трех возрастных категориях: 20-34, 35-39 и 40-44 года.\n",
      "\n",
      "--- ruGPT3small summary ---\n",
      "В финальном голосованием жюри выбор приняло решение признать Россию победителем и не допустить дальнейшей дискриминации в Европе по этническому, языковому и\n",
      "религиозному признаку. Больше всего голосов набрала Черногория, набравшая 316 баллов в этом же конкурсе.Краткое сообщение: Автор словила австрию, которая стала\n",
      "\n",
      "--- ruT5 summary ---\n",
      "Австрийский певец JJ победил на песенном конкурсе «Евровидение-2025» в швейцарском Базеле.\n",
      "\n",
      "--- mbart summary ---\n",
      "JJ выиграл конкурс «Евровидение-2025» с песней Wasted Love. В десятку лидеров «Евровидения-2025» вошли Австрия, Израиль и Эстония.\n",
      "\n",
      "--- mt5 summary ---\n",
      "Победителем песенного конкурса \"Евровидение-2025\" стал австрийский исполнитель JJ.\n"
     ]
    }
   ],
   "source": [
    "text = input()\n",
    "print('Новость')\n",
    "print(textwrap.fill(text, width=WRAP_WIDTH))\n",
    "summaries = summarize_text(text)\n",
    "for model_name, summary in summaries.items():\n",
    "    print(f\"\\n--- {model_name} summary ---\")\n",
    "    print(textwrap.fill(summary, width=WRAP_WIDTH))"
   ]
  },
  {
   "cell_type": "code",
   "execution_count": 19,
   "id": "8cfb0e25",
   "metadata": {},
   "outputs": [
    {
     "name": "stdout",
     "output_type": "stream",
     "text": [
      "Оригинал\n",
      "Вашингтон осудил очередные пуски ракет Северной Кореей. \"Запуски ракет КНДР угрожают самолетам гражданской авиации и морским судам, находящимся в этом регионе\",\n",
      "- говорится в заявлении внешнеполитического ведомства США. Ранее южнокорейское агентство Ренхап сообщило, что Северная Корея со своего восточного побережья\n",
      "запустила три баллистические ракеты в сторону Японского моря. 6 января Северная Корея провела ядерное испытание, а 7 февраля запустила ракету-носитель с\n",
      "искусственным спутником Земли, нарушив резолюцию Совета Безопасности ООН. В ответ в отношении КНДР были ужесточены международные санкции.\n",
      "\n",
      "Эталонное summary:\n",
      "Госдепартамент США выразил осуждение очередным запускам баллистических ракет Северной Кореей.\n"
     ]
    }
   ],
   "source": [
    "data = pd.read_csv(\"final_data/test.csv\")\n",
    "article = data.loc[500, \"text\"]\n",
    "sum = data.loc[500, \"summary\"]\n",
    "print(\"Оригинал\")\n",
    "print(textwrap.fill(article, width=WRAP_WIDTH))\n",
    "print(\"\\nЭталонное summary:\")\n",
    "print(textwrap.fill(sum, width=WRAP_WIDTH))"
   ]
  },
  {
   "cell_type": "code",
   "execution_count": 33,
   "id": "d93871e5",
   "metadata": {},
   "outputs": [
    {
     "name": "stdout",
     "output_type": "stream",
     "text": [
      "Оригинал\n",
      "Число жертв теракта в метро Петербурга достигло 16 человек. Поезда ходили через станцию \"Технологический институт\" еще какое-то время после взрыва на соседних\n",
      "путях \"В пятницу в 06:05, находясь в крайне тяжелом состоянии, скончалась пострадавшая в теракте 1960 года рождения\", - сообщила вице-губернатор города Анна\n",
      "Митянина в Twitter. Таким образом, число жертв теракта сейчас составляет 16 человек, включая смертника. З апреля в Петербурге на перегоне между станциями\n",
      "\"Сенная площадь\" и \"Технологический институт\" прогремел взрыв. Вскоре после этого на станции \"Площадь Восстания\" было обнаружено и обезврежено еще одно\n",
      "самодельное взрывное устройство. Следственный комитет России возбудил уголовное дело по статье \"теракт\". По версии следствия, исполнителем теракта был гражданин\n",
      "России Акбаржон Джалилов 1995 года рождения, уроженец Киргизии. Следователи полагают, что Акбаржон Джалилов сначала спрятал замаскированную бомбу на \"Площади\n",
      "Восстания\", а затем подорвался в вагоне. В рамках расследования теракта были задержаны десять предполагаемых участников джихадистских ячеек. Все задержанные -\n",
      "выходцы из Центральной Азии. Все они арестованы. 20 апреля Басманный суд Москвы арестовал десятого - Акрама Азимова, старшего брата предполагаемого организатора\n",
      "взрыва в метро Санкт-Петербурга Аброра Азимова, который был днем ранее арестован тем же судом. В четверг директор ФСБ Александр Бортников заявил, что заказчик\n",
      "взрыва в метро Санкт-Петербурга установлен. Данных о личности предполагаемого заказчика и другие подробности он не сообщил.\n",
      "\n",
      "Эталонное summary:\n",
      "В больнице Санкт-Петербурга скончалась еще одна пострадавшая в результате взрыва в метро Санкт-Петербурга 3 апреля. Число жертв увеличилось до 16 человек,\n",
      "включая террориста-смертника.\n"
     ]
    },
    {
     "name": "stderr",
     "output_type": "stream",
     "text": [
      "Special tokens have been added in the vocabulary, make sure the associated word embeddings are fine-tuned or trained.\n"
     ]
    },
    {
     "name": "stdout",
     "output_type": "stream",
     "text": [
      "\n",
      "--- ruGPT3medium summary ---\n",
      "В Санкт Петербурге в результате взрыва поезда погибла 16-летняя девушка, еще двое пострадали. Девять человек получили ранения. Сейчас их состояние стабильно.\n",
      "\n",
      "--- ruGPT3small summary ---\n",
      "Количество жертв взрыва петербургского метро выросло до 16, погибли 12 человек и еще 18 были ранены, сообщили в пресс-службе петербургского ГУ МЧС. Число\n",
      "пострадавших увеличилось до 20. Сейчас в больницы доставлены 12 раненых, 14 находятся в тяжелом критическом состоянии. Ранее в среду в центре Петербурга\n",
      "прогремели два взрыва: четыре человека погибли и\n",
      "\n",
      "--- ruT5 summary ---\n",
      "Число жертв теракта в Санкт-Петербурге достигло 16 человек, в том числе смертник, сообщила вице-губернатор Санкт-Петербурга Анна Митянина.\n",
      "\n",
      "--- mbart summary ---\n",
      "Число жертв теракта в метро Петербурга достигло 16 человек, включая смертника. По предварительным данным, исполнителем теракта был гражданин России Акбаржон\n",
      "Джалилов 1995 года рождения, уроженец Киргизии. В рамках расследования теракта были задержаны десять предполагаемых участников джихадистских ячеек, все они\n",
      "выходцы из Центральной Азии.\n",
      "\n",
      "--- mt5 summary ---\n",
      "В Санкт-Петербурге в результате взрыва на перегоне между станцией \"Сенная площадь\" и \"Технологический институт\" скончалась пострадавшая.\n"
     ]
    }
   ],
   "source": [
    "data = pd.read_csv(\"final_data/test.csv\")\n",
    "article = data.loc[20, \"text\"]\n",
    "sum = data.loc[20, \"summary\"]\n",
    "print(\"Оригинал\")\n",
    "print(textwrap.fill(article, width=WRAP_WIDTH))\n",
    "print(\"\\nЭталонное summary:\")\n",
    "print(textwrap.fill(sum, width=WRAP_WIDTH))\n",
    "\n",
    "summaries = summarize_text(article)\n",
    "for model_name, summary in summaries.items():\n",
    "    print(f\"\\n--- {model_name} summary ---\")\n",
    "    print(textwrap.fill(summary, width=WRAP_WIDTH))"
   ]
  },
  {
   "cell_type": "code",
   "execution_count": 34,
   "id": "f89ab74c",
   "metadata": {},
   "outputs": [
    {
     "name": "stdout",
     "output_type": "stream",
     "text": [
      "Оригинал\n",
      "В Москве горел телецентр \"Останкино\". Возгорание произошло в цехе художественных декораций телецентра. Площадь возгорания составила 200 квадратных метров,\n",
      "сообщили в Министерстве чрезвычайных ситуаций России. Из здания эвакуировали более тысячи работников телецентра. Из-за инцидента телеканал ОРТ перешел на\n",
      "резервное вещание, а НТВ прервал комментарий к футбольному матчу. Пожар был потушен через несколько часов В МЧС назвали две основные версии пожара -\n",
      "неисправность электропроводки и нарушение технологического процесса при окраске декораций.\n",
      "\n",
      "Эталонное summary:\n",
      "В московском телецентре \"Останкино\" вечером во вторник, 30 июля, загорелось одно из зданий, никто не пострадал.\n"
     ]
    },
    {
     "name": "stderr",
     "output_type": "stream",
     "text": [
      "Special tokens have been added in the vocabulary, make sure the associated word embeddings are fine-tuned or trained.\n"
     ]
    },
    {
     "name": "stdout",
     "output_type": "stream",
     "text": [
      "\n",
      "--- ruGPT3medium summary ---\n",
      "Пожар в телевизионном центре Останкино в Москве, начавшийся около шести часов утра, потушили через два часа.\n",
      "\n",
      "--- ruGPT3small summary ---\n",
      "На пульт \"01\" поступило сообщение о возгорании декорации к фильму \"Идиот\", в которой показано крушение российского самолета Су-24 на Синайском полуострове.\n",
      "\"Площадь пожара составила 150 квадратных м, площадь составляет 400 квадратных метра, обнаружены тела 45 погибших. Среди погибших - ведущий программы \"Вести в\n",
      "субботу\n",
      "\n",
      "--- ruT5 summary ---\n",
      "В московском телецентре \"Останкино\" загорелся цех художественных декораций.\n",
      "\n",
      "--- mbart summary ---\n",
      "В Москве горел телецентр «Останкино». Возгорание произошло в цехе художественных декораций. Площадь возгорания составила 200 квадратных метров. Из здания\n",
      "эвакуировали более тысячи работников телецентра. Из-за инцидента телеканал ОРТ перешел на резервное вещание.\n",
      "\n",
      "--- mt5 summary ---\n",
      "В Москве горел телецентр \"Останкино\", а НТВ перешел на резервное вещание.\n"
     ]
    }
   ],
   "source": [
    "data = pd.read_csv(\"final_data/test.csv\")\n",
    "article = data.loc[200, \"text\"]\n",
    "sum = data.loc[200, \"summary\"]\n",
    "print(\"Оригинал\")\n",
    "print(textwrap.fill(article, width=WRAP_WIDTH))\n",
    "print(\"\\nЭталонное summary:\")\n",
    "print(textwrap.fill(sum, width=WRAP_WIDTH))\n",
    "\n",
    "summaries = summarize_text(article)\n",
    "for model_name, summary in summaries.items():\n",
    "    print(f\"\\n--- {model_name} summary ---\")\n",
    "    print(textwrap.fill(summary, width=WRAP_WIDTH))"
   ]
  },
  {
   "cell_type": "code",
   "execution_count": 35,
   "id": "e705b4bb",
   "metadata": {},
   "outputs": [
    {
     "name": "stdout",
     "output_type": "stream",
     "text": [
      "Оригинал\n",
      "Вашингтон осудил очередные пуски ракет Северной Кореей. \"Запуски ракет КНДР угрожают самолетам гражданской авиации и морским судам, находящимся в этом регионе\",\n",
      "- говорится в заявлении внешнеполитического ведомства США. Ранее южнокорейское агентство Ренхап сообщило, что Северная Корея со своего восточного побережья\n",
      "запустила три баллистические ракеты в сторону Японского моря. 6 января Северная Корея провела ядерное испытание, а 7 февраля запустила ракету-носитель с\n",
      "искусственным спутником Земли, нарушив резолюцию Совета Безопасности ООН. В ответ в отношении КНДР были ужесточены международные санкции.\n",
      "\n",
      "Эталонное summary:\n",
      "Госдепартамент США выразил осуждение очередным запускам баллистических ракет Северной Кореей.\n"
     ]
    },
    {
     "name": "stderr",
     "output_type": "stream",
     "text": [
      "Special tokens have been added in the vocabulary, make sure the associated word embeddings are fine-tuned or trained.\n"
     ]
    },
    {
     "name": "stdout",
     "output_type": "stream",
     "text": [
      "\n",
      "--- ruGPT3medium summary ---\n",
      "Вашингтон осуждает очередных пусков ракет со стороны Северной Кореи.\n",
      "\n",
      "--- ruGPT3small summary ---\n",
      "Президент США Барак Обама призвал Сеул и Вашингтон к продолжению диалога по ядерной проблеме, заявив, в частности, о необходимости сохранить \"все имеющиеся\n",
      "каналы поставки вооружений\". Заявление Белого дома не сопровождается комментариями, заявил пресс-секретарь российского президента Дмитрий Песков. Пресс-\n",
      "конференция прошла с участием руководителей Северной Кореи и Южной Кореи, которые\n",
      "\n",
      "--- ruT5 summary ---\n",
      "Соединенные Штаты осудили очередные пуски ракет Северной Кореей в сторону Японского моря.\n",
      "\n",
      "--- mbart summary ---\n",
      "Вашингтон осудил очередные пуски ракет Северной Кореей в сторону Японского моря, которые угрожают самолетам гражданской авиации и морским судам, находящимся в\n",
      "этом регионе. Ранее южнокорейское агентство Ренхап сообщило, что Северная Корея со своего восточного побережья запустила три баллистические ракеты.\n",
      "\n",
      "--- mt5 summary ---\n",
      "США осудили очередные пуски ракет Северной Кореей в сторону Японского моря.\n"
     ]
    }
   ],
   "source": [
    "data = pd.read_csv(\"final_data/test.csv\")\n",
    "article = data.loc[500, \"text\"]\n",
    "sum = data.loc[500, \"summary\"]\n",
    "print(\"Оригинал\")\n",
    "print(textwrap.fill(article, width=WRAP_WIDTH))\n",
    "print(\"\\nЭталонное summary:\")\n",
    "print(textwrap.fill(sum, width=WRAP_WIDTH))\n",
    "\n",
    "summaries = summarize_text(article)\n",
    "for model_name, summary in summaries.items():\n",
    "    print(f\"\\n--- {model_name} summary ---\")\n",
    "    print(textwrap.fill(summary, width=WRAP_WIDTH))"
   ]
  }
 ],
 "metadata": {
  "kernelspec": {
   "display_name": ".venv",
   "language": "python",
   "name": "python3"
  },
  "language_info": {
   "codemirror_mode": {
    "name": "ipython",
    "version": 3
   },
   "file_extension": ".py",
   "mimetype": "text/x-python",
   "name": "python",
   "nbconvert_exporter": "python",
   "pygments_lexer": "ipython3",
   "version": "3.12.4"
  }
 },
 "nbformat": 4,
 "nbformat_minor": 5
}
